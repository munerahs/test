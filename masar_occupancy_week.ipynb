{
  "nbformat": 4,
  "nbformat_minor": 0,
  "metadata": {
    "colab": {
      "provenance": [],
      "include_colab_link": true
    },
    "kernelspec": {
      "name": "python3",
      "display_name": "Python 3"
    },
    "language_info": {
      "name": "python"
    }
  },
  "cells": [
    {
      "cell_type": "markdown",
      "metadata": {
        "id": "view-in-github",
        "colab_type": "text"
      },
      "source": [
        "<a href=\"https://colab.research.google.com/github/Jana-Alrzoog/2025_GP_28/blob/main/masar-sim/notebooks/masar_occupancy_week.ipynb\" target=\"_parent\"><img src=\"https://colab.research.google.com/assets/colab-badge.svg\" alt=\"Open In Colab\"/></a>"
      ]
    },
    {
      "cell_type": "code",
      "source": [
        "# --- 1) اربط كولاب بمشروع masar-sim على GitHub ---\n",
        "%cd /content\n",
        "!git clone https://github.com/Jana-Alrzoog/2025_GP_28.git\n",
        "%cd /content/2025_GP_28/masar-sim\n",
        "!ls\n"
      ],
      "metadata": {
        "colab": {
          "base_uri": "https://localhost:8080/"
        },
        "id": "bwrEB5u32MD6",
        "outputId": "6a7969c3-b03c-40ed-fbcb-0dee92b500b6"
      },
      "execution_count": 1,
      "outputs": [
        {
          "output_type": "stream",
          "name": "stdout",
          "text": [
            "/content\n",
            "fatal: destination path '2025_GP_28' already exists and is not an empty directory.\n",
            "/content/2025_GP_28/masar-sim\n",
            "data  lib  notebooks  sims\n"
          ]
        }
      ]
    },
    {
      "cell_type": "code",
      "execution_count": 2,
      "metadata": {
        "colab": {
          "base_uri": "https://localhost:8080/"
        },
        "id": "nB-p9pLs101k",
        "outputId": "3612c678-5c12-470c-f9d3-60085eec4729"
      },
      "outputs": [
        {
          "output_type": "stream",
          "name": "stdout",
          "text": [
            "ROOT = /content/2025_GP_28/masar-sim\n",
            "GEN  = /content/2025_GP_28/masar-sim/data/generated\n",
            "CONF = /content/2025_GP_28/masar-sim/sims/00_config.yaml\n",
            "✅ base_day rows=6,486, stations=6, day=2025-09-23\n"
          ]
        }
      ],
      "source": [
        "# =========================================================\n",
        "# masar_occupancy_week.ipynb\n",
        "# Generate a full week with changing scenarios → occupancy_week.csv\n",
        "# =========================================================\n",
        "\n",
        "import os, json, csv, yaml\n",
        "import numpy as np\n",
        "import pandas as pd\n",
        "from datetime import datetime, timedelta\n",
        "from dateutil.parser import parse\n",
        "\n",
        "# --- حاول نلقط ROOT تلقائيًا (latest ثم القديم) ---\n",
        "CANDIDATES = [\n",
        "    \"/content/2025_GP_28_latest/masar-sim\",\n",
        "    \"/content/2025_GP_28/masar-sim\",\n",
        "    \"/content/masar-sim\",\n",
        "]\n",
        "ROOT = next((p for p in CANDIDATES if os.path.exists(p)), None)\n",
        "assert ROOT, \"لم أجد مجلد masar-sim. تأكدي من الكلون والمسار.\"\n",
        "SEED = f\"{ROOT}/data/seeds\"\n",
        "GEN  = f\"{ROOT}/data/generated\"\n",
        "CONF = f\"{ROOT}/sims/00_config.yaml\"\n",
        "\n",
        "print(\"ROOT =\", ROOT)\n",
        "print(\"GEN  =\", GEN)\n",
        "print(\"CONF =\", CONF)\n",
        "\n",
        "# --- تحميل المدخلات الأساسية ---\n",
        "with open(CONF) as f:\n",
        "    config = yaml.safe_load(f)\n",
        "\n",
        "with open(f\"{SEED}/stations.json\") as f:\n",
        "    stations = json.load(f)\n",
        "with open(f\"{SEED}/weather_patterns.json\") as f:\n",
        "    weather_map = json.load(f)\n",
        "with open(f\"{SEED}/calendar_events.csv\") as f:\n",
        "    events_seed = list(csv.DictReader(f))\n",
        "with open(f\"{SEED}/holidays.csv\") as f:\n",
        "    holidays_seed = list(csv.DictReader(f))\n",
        "\n",
        "base_path = f\"{GEN}/base_demand_day.csv\"\n",
        "assert os.path.exists(base_path), \"base_demand_day.csv غير موجود—شغّلي masar_base_demand.ipynb أولًا.\"\n",
        "base_day = pd.read_csv(base_path, parse_dates=[\"timestamp\"])\n",
        "print(f\"✅ base_day rows={len(base_day):,}, stations={base_day['station_id'].nunique()}, day={base_day['timestamp'].dt.date.iloc[0]}\")\n"
      ]
    },
    {
      "cell_type": "code",
      "source": [
        "import sys\n",
        "sys.path.append(f\"{ROOT}/lib\")\n",
        "from modifiers import compute_demand_modifier  # نفس اللي جرّبتِه في masar_modifier_test.ipynb\n"
      ],
      "metadata": {
        "id": "3dwvIH5Y2P_y"
      },
      "execution_count": 3,
      "outputs": []
    },
    {
      "cell_type": "code",
      "source": [
        "# حددي بداية الأسبوع\n",
        "week_start = parse(\"2025-09-21\")  #الاحد\n",
        "\n",
        "# دورة السيناريوهات خلال الأسبوع\n",
        "scenario_cycle = [\"normal\", \"rainy\", \"event_kafd\", \"normal\", \"holiday\", \"dusty\", \"normal\"]\n",
        "\n",
        "# جدول الأيام (7 أيام)\n",
        "days = [\n",
        "    {\"date\": (week_start + timedelta(days=i)).date(), \"tag\": scenario_cycle[i % len(scenario_cycle)]}\n",
        "    for i in range(7)\n",
        "]\n",
        "days\n"
      ],
      "metadata": {
        "colab": {
          "base_uri": "https://localhost:8080/"
        },
        "id": "SMk7n-E32VCz",
        "outputId": "b2e60ad5-dfa6-4d59-efd4-8210e526e75d"
      },
      "execution_count": 4,
      "outputs": [
        {
          "output_type": "execute_result",
          "data": {
            "text/plain": [
              "[{'date': datetime.date(2025, 9, 21), 'tag': 'normal'},\n",
              " {'date': datetime.date(2025, 9, 22), 'tag': 'rainy'},\n",
              " {'date': datetime.date(2025, 9, 23), 'tag': 'event_kafd'},\n",
              " {'date': datetime.date(2025, 9, 24), 'tag': 'normal'},\n",
              " {'date': datetime.date(2025, 9, 25), 'tag': 'holiday'},\n",
              " {'date': datetime.date(2025, 9, 26), 'tag': 'dusty'},\n",
              " {'date': datetime.date(2025, 9, 27), 'tag': 'normal'}]"
            ]
          },
          "metadata": {},
          "execution_count": 4
        }
      ]
    },
    {
      "cell_type": "code",
      "source": [
        "# دوال تولّد Overrides حسب نوع السيناريو\n",
        "def build_overrides_for_date(day_date, tag):\n",
        "    d = str(day_date)\n",
        "    weather_override = None\n",
        "    holiday_override = None\n",
        "    events_over = []\n",
        "\n",
        "    if tag == \"rainy\":  weather_override = \"Rainy\"\n",
        "    if tag == \"dusty\":  weather_override = \"Dust\"\n",
        "    if tag == \"holiday\": holiday_override = {\"date\": d, \"demand_modifier\": 1.6}\n",
        "    if tag == \"event_kafd\":\n",
        "        events_over.append({\n",
        "            \"date\": d, \"station_id\": \"KAFD\",  # أو \"S1\" حسب كود محطتكم\n",
        "            \"event_type\": \"Sports\",\n",
        "            \"start_hour\": 15,\n",
        "            \"end_hour\": 22\n",
        "        })\n",
        "    return weather_override, holiday_override, events_over\n"
      ],
      "metadata": {
        "id": "EJrFNvFq2cld"
      },
      "execution_count": 5,
      "outputs": []
    },
    {
      "cell_type": "code",
      "source": [
        "def generate_day_df(day_date, weather_override=None, holiday_override=None, events_over=None):\n",
        "    # 1) ننسخ شكل اليوم الأساسي ونبدّل التاريخ فقط\n",
        "    df = base_day.copy()\n",
        "    df[\"timestamp\"] = df[\"timestamp\"].apply(lambda t: datetime.combine(day_date, t.time()))\n",
        "\n",
        "    # 2) نركّب seeds محلية مع overrides\n",
        "    wm = dict(weather_map)\n",
        "    if weather_override:\n",
        "        wm[str(day_date)] = {\"condition\": weather_override}\n",
        "    ev = list(events_seed)\n",
        "    if events_over:\n",
        "        for eo in events_over:\n",
        "            ev.append({\n",
        "                \"date\": eo[\"date\"], \"station_id\": eo[\"station_id\"],\n",
        "                \"event_type\": eo.get(\"event_type\",\"Other\"),\n",
        "                \"start_hour\": eo.get(\"start_hour\",0), \"end_hour\": eo.get(\"end_hour\",24)\n",
        "            })\n",
        "    hol = list(holidays_seed)\n",
        "    if holiday_override:\n",
        "        hol.append(holiday_override)\n",
        "\n",
        "    # 3) modifiers + أعلام الطقس/الحدث/العطلة\n",
        "    mods, wcodes, etypes, eflags, hflags = [], [], [], [], []\n",
        "    hset = {h[\"date\"] for h in hol}\n",
        "\n",
        "    for ts, sid in zip(df[\"timestamp\"], df[\"station_id\"]):\n",
        "        out = compute_demand_modifier(ts, sid, {\"stations\":stations,\"weather\":wm,\"events\":ev,\"holidays\":hol}, config)\n",
        "        mods.append(out[\"final_demand_modifier\"])\n",
        "        wcodes.append(out[\"weather\"])\n",
        "\n",
        "        dstr = ts.date().isoformat()\n",
        "        ef, et = 0, \"None\"\n",
        "        for e in ev:\n",
        "            if e.get(\"date\")==dstr and str(e.get(\"station_id\",\"\")).upper()==str(sid).upper():\n",
        "                try: sh, eh = int(e.get(\"start_hour\",0)), int(e.get(\"end_hour\",24))\n",
        "                except: sh, eh = 0, 24\n",
        "                if sh <= ts.hour < eh:\n",
        "                    ef, et = 1, e.get(\"event_type\",\"Other\")\n",
        "                    break\n",
        "        eflags.append(ef); etypes.append(et)\n",
        "        hflags.append(1 if dstr in hset else 0)\n",
        "\n",
        "    df[\"modifier\"] = mods\n",
        "    df[\"weather_code\"] = wcodes\n",
        "    df[\"special_event_type\"] = etypes\n",
        "    df[\"event_flag\"] = eflags\n",
        "    df[\"holiday_flag\"] = hflags\n",
        "\n",
        "    # 4) الطلب المعدّل → تطبيع داخل كل محطة → λ\n",
        "    df[\"base_demand_adj\"] = df[\"base_demand\"] * df[\"modifier\"]\n",
        "    df[\"demand_norm_final\"] = df.groupby(\"station_id\")[\"base_demand_adj\"] \\\n",
        "                                .apply(lambda s: s / max(s.max(), 1e-9)).values\n",
        "\n",
        "    cap_map = {s[\"station_id\"]: int(s.get(\"peak_capacity\", 220)) for s in stations}\n",
        "    df[\"peak_capacity\"] = df[\"station_id\"].map(cap_map).fillna(220).astype(int)\n",
        "\n",
        "    baseline = 10\n",
        "    df[\"lambda\"] = baseline + df[\"demand_norm_final\"] * (df[\"peak_capacity\"] - baseline)\n",
        "\n",
        "    # 5) توليد الركاب (Poisson) + VIP + نسب إشغال\n",
        "    np.random.seed(42 + int(day_date.strftime(\"%Y%m%d\")))  # بذرة مختلفة لكل يوم\n",
        "    occ = np.random.poisson(df[\"lambda\"].values)\n",
        "    df[\"cabin_passenger_count\"] = np.minimum(occ, df[\"peak_capacity\"].values).astype(int)\n",
        "\n",
        "    vip_ratio = 0.03\n",
        "    df[\"vip_cabin_passenger_count\"] = (df[\"cabin_passenger_count\"]*vip_ratio).round().astype(int)\n",
        "\n",
        "    df[\"cabin_capacity\"] = df[\"peak_capacity\"]\n",
        "    df[\"vip_cabin_capacity\"] = 40\n",
        "    df[\"cabin_occupancy\"] = (df[\"cabin_passenger_count\"]/df[\"cabin_capacity\"]*100).clip(0,100).round(1)\n",
        "    df[\"vip_cabin_occupancy\"] = (df[\"vip_cabin_passenger_count\"]/df[\"vip_cabin_capacity\"]*100).clip(0,100).round(1)\n",
        "\n",
        "    # 6) إضافات تشغيلية بسيطة\n",
        "    def _noise(n,s): return np.random.normal(0,s,n)\n",
        "    load = (df[\"cabin_passenger_count\"]/df[\"cabin_capacity\"]).clip(0,1)\n",
        "    df[\"platform_queue_estimate\"] = (df[\"cabin_passenger_count\"]*0.12 + _noise(len(df),3)).round().clip(0,500).astype(int)\n",
        "    df[\"platform_wait_sec\"] = (load*180 + _noise(len(df),10)).clip(0,300).round().astype(int)\n",
        "\n",
        "    # 7) مؤشرات زمنية وثوابت تشغيلية\n",
        "    df[\"hour\"] = df[\"timestamp\"].dt.hour\n",
        "    df[\"day_of_week\"] = df[\"timestamp\"].dt.weekday\n",
        "    df[\"is_weekend\"] = df[\"day_of_week\"].isin([4,5]).astype(int)\n",
        "    df[\"train_id\"] = \"TRN045\"; df[\"carriage_count\"]=6; df[\"headway_seconds\"]=240\n",
        "\n",
        "    df[\"scenario_tag\"] = None  # نملأها لاحقًا بحسب day\n",
        "    return df.sort_values([\"timestamp\",\"station_id\"]).reset_index(drop=True)\n",
        "\n"
      ],
      "metadata": {
        "id": "pQuia0f75ouw"
      },
      "execution_count": 6,
      "outputs": []
    },
    {
      "cell_type": "code",
      "source": [
        "config = config or {}\n",
        "config.setdefault(\"multipliers\", {})\n",
        "config[\"multipliers\"].setdefault(\"weekend\", 1.0)\n",
        "config[\"multipliers\"].setdefault(\"holiday\", 1.0)\n",
        "config[\"multipliers\"].setdefault(\"weather\", {})   # {\"Sunny\":1.0,\"Rainy\":0.9,...} لو حبيتي\n",
        "config.setdefault(\"events\", {})                   # {\"Sports\":1.3,\"Concert\":1.2,...} لو حبيتي\n"
      ],
      "metadata": {
        "colab": {
          "base_uri": "https://localhost:8080/"
        },
        "id": "zktTUj-VWXtM",
        "outputId": "823e3897-8af7-4f2e-9cbb-995a42e56ad8"
      },
      "execution_count": 7,
      "outputs": [
        {
          "output_type": "execute_result",
          "data": {
            "text/plain": [
              "{}"
            ]
          },
          "metadata": {},
          "execution_count": 7
        }
      ]
    },
    {
      "cell_type": "code",
      "source": [
        "frames = []\n",
        "for day_info in days:\n",
        "    # تشخيص سريع\n",
        "    if not isinstance(day_info, dict) or \"date\" not in day_info or \"tag\" not in day_info:\n",
        "        print(\"⚠️ day_info malformed:\", day_info)\n",
        "        raise ValueError(\"days[] must be list of dicts with keys 'date' and 'tag'.\")\n",
        "\n",
        "    day_date = day_info[\"date\"]\n",
        "    tag      = day_info[\"tag\"]\n",
        "\n",
        "    w_over, h_over, e_over = build_overrides_for_date(day_date, tag)\n",
        "    day_df = generate_day_df(day_date, w_over, h_over, e_over)\n",
        "    day_df[\"scenario_tag\"] = tag\n",
        "    day_df[\"date\"] = day_date.isoformat()\n",
        "    frames.append(day_df)\n",
        "    print(f\"✅ generated day {day_date} ({tag}) rows={len(day_df)}\")\n",
        "\n",
        "\n",
        "week_df = pd.concat(frames, ignore_index=True)\n",
        "out_week = f\"{GEN}/occupancy_week.csv\"\n",
        "os.makedirs(GEN, exist_ok=True)\n",
        "week_df.to_csv(out_week, index=False)\n",
        "print(f\"\\n💾 Saved → {out_week}\")\n",
        "print(f\"rows={len(week_df):,}  stations={week_df['station_id'].nunique()}  days={len(days)}\")\n",
        "week_df.head(3)\n"
      ],
      "metadata": {
        "colab": {
          "base_uri": "https://localhost:8080/",
          "height": 418
        },
        "id": "8xUyrWS95ynB",
        "outputId": "9ead0e68-3db4-4c94-9147-21d0f25581ba"
      },
      "execution_count": 8,
      "outputs": [
        {
          "output_type": "stream",
          "name": "stdout",
          "text": [
            "✅ generated day 2025-09-21 (normal) rows=6486\n",
            "✅ generated day 2025-09-22 (rainy) rows=6486\n",
            "✅ generated day 2025-09-23 (event_kafd) rows=6486\n",
            "✅ generated day 2025-09-24 (normal) rows=6486\n",
            "✅ generated day 2025-09-25 (holiday) rows=6486\n",
            "✅ generated day 2025-09-26 (dusty) rows=6486\n",
            "✅ generated day 2025-09-27 (normal) rows=6486\n",
            "\n",
            "💾 Saved → /content/2025_GP_28/masar-sim/data/generated/occupancy_week.csv\n",
            "rows=45,402  stations=6  days=7\n"
          ]
        },
        {
          "output_type": "execute_result",
          "data": {
            "text/plain": [
              "   timestamp station_id  base_demand  base_demand_norm  modifier weather_code  \\\n",
              "0 2025-09-21         S1         0.05          0.047619  0.867470        Sunny   \n",
              "1 2025-09-21         S2         0.05          0.047619  0.693976        Sunny   \n",
              "2 2025-09-21         S3         0.05          0.047619  0.578313        Sunny   \n",
              "\n",
              "  special_event_type  event_flag  holiday_flag  base_demand_adj  ...  \\\n",
              "0               None           0             0         0.043373  ...   \n",
              "1               None           0             0         0.034699  ...   \n",
              "2               None           0             0         0.028916  ...   \n",
              "\n",
              "   platform_queue_estimate  platform_wait_sec  hour  day_of_week  is_weekend  \\\n",
              "0                        6                 17     0            6           0   \n",
              "1                        3                 22     0            6           0   \n",
              "2                        6                 25     0            6           0   \n",
              "\n",
              "   train_id  carriage_count  headway_seconds  scenario_tag        date  \n",
              "0    TRN045               6              240        normal  2025-09-21  \n",
              "1    TRN045               6              240        normal  2025-09-21  \n",
              "2    TRN045               6              240        normal  2025-09-21  \n",
              "\n",
              "[3 rows x 29 columns]"
            ],
            "text/html": [
              "\n",
              "  <div id=\"df-bc735828-e824-4af4-8d02-9e47d88193c1\" class=\"colab-df-container\">\n",
              "    <div>\n",
              "<style scoped>\n",
              "    .dataframe tbody tr th:only-of-type {\n",
              "        vertical-align: middle;\n",
              "    }\n",
              "\n",
              "    .dataframe tbody tr th {\n",
              "        vertical-align: top;\n",
              "    }\n",
              "\n",
              "    .dataframe thead th {\n",
              "        text-align: right;\n",
              "    }\n",
              "</style>\n",
              "<table border=\"1\" class=\"dataframe\">\n",
              "  <thead>\n",
              "    <tr style=\"text-align: right;\">\n",
              "      <th></th>\n",
              "      <th>timestamp</th>\n",
              "      <th>station_id</th>\n",
              "      <th>base_demand</th>\n",
              "      <th>base_demand_norm</th>\n",
              "      <th>modifier</th>\n",
              "      <th>weather_code</th>\n",
              "      <th>special_event_type</th>\n",
              "      <th>event_flag</th>\n",
              "      <th>holiday_flag</th>\n",
              "      <th>base_demand_adj</th>\n",
              "      <th>...</th>\n",
              "      <th>platform_queue_estimate</th>\n",
              "      <th>platform_wait_sec</th>\n",
              "      <th>hour</th>\n",
              "      <th>day_of_week</th>\n",
              "      <th>is_weekend</th>\n",
              "      <th>train_id</th>\n",
              "      <th>carriage_count</th>\n",
              "      <th>headway_seconds</th>\n",
              "      <th>scenario_tag</th>\n",
              "      <th>date</th>\n",
              "    </tr>\n",
              "  </thead>\n",
              "  <tbody>\n",
              "    <tr>\n",
              "      <th>0</th>\n",
              "      <td>2025-09-21</td>\n",
              "      <td>S1</td>\n",
              "      <td>0.05</td>\n",
              "      <td>0.047619</td>\n",
              "      <td>0.867470</td>\n",
              "      <td>Sunny</td>\n",
              "      <td>None</td>\n",
              "      <td>0</td>\n",
              "      <td>0</td>\n",
              "      <td>0.043373</td>\n",
              "      <td>...</td>\n",
              "      <td>6</td>\n",
              "      <td>17</td>\n",
              "      <td>0</td>\n",
              "      <td>6</td>\n",
              "      <td>0</td>\n",
              "      <td>TRN045</td>\n",
              "      <td>6</td>\n",
              "      <td>240</td>\n",
              "      <td>normal</td>\n",
              "      <td>2025-09-21</td>\n",
              "    </tr>\n",
              "    <tr>\n",
              "      <th>1</th>\n",
              "      <td>2025-09-21</td>\n",
              "      <td>S2</td>\n",
              "      <td>0.05</td>\n",
              "      <td>0.047619</td>\n",
              "      <td>0.693976</td>\n",
              "      <td>Sunny</td>\n",
              "      <td>None</td>\n",
              "      <td>0</td>\n",
              "      <td>0</td>\n",
              "      <td>0.034699</td>\n",
              "      <td>...</td>\n",
              "      <td>3</td>\n",
              "      <td>22</td>\n",
              "      <td>0</td>\n",
              "      <td>6</td>\n",
              "      <td>0</td>\n",
              "      <td>TRN045</td>\n",
              "      <td>6</td>\n",
              "      <td>240</td>\n",
              "      <td>normal</td>\n",
              "      <td>2025-09-21</td>\n",
              "    </tr>\n",
              "    <tr>\n",
              "      <th>2</th>\n",
              "      <td>2025-09-21</td>\n",
              "      <td>S3</td>\n",
              "      <td>0.05</td>\n",
              "      <td>0.047619</td>\n",
              "      <td>0.578313</td>\n",
              "      <td>Sunny</td>\n",
              "      <td>None</td>\n",
              "      <td>0</td>\n",
              "      <td>0</td>\n",
              "      <td>0.028916</td>\n",
              "      <td>...</td>\n",
              "      <td>6</td>\n",
              "      <td>25</td>\n",
              "      <td>0</td>\n",
              "      <td>6</td>\n",
              "      <td>0</td>\n",
              "      <td>TRN045</td>\n",
              "      <td>6</td>\n",
              "      <td>240</td>\n",
              "      <td>normal</td>\n",
              "      <td>2025-09-21</td>\n",
              "    </tr>\n",
              "  </tbody>\n",
              "</table>\n",
              "<p>3 rows × 29 columns</p>\n",
              "</div>\n",
              "    <div class=\"colab-df-buttons\">\n",
              "\n",
              "  <div class=\"colab-df-container\">\n",
              "    <button class=\"colab-df-convert\" onclick=\"convertToInteractive('df-bc735828-e824-4af4-8d02-9e47d88193c1')\"\n",
              "            title=\"Convert this dataframe to an interactive table.\"\n",
              "            style=\"display:none;\">\n",
              "\n",
              "  <svg xmlns=\"http://www.w3.org/2000/svg\" height=\"24px\" viewBox=\"0 -960 960 960\">\n",
              "    <path d=\"M120-120v-720h720v720H120Zm60-500h600v-160H180v160Zm220 220h160v-160H400v160Zm0 220h160v-160H400v160ZM180-400h160v-160H180v160Zm440 0h160v-160H620v160ZM180-180h160v-160H180v160Zm440 0h160v-160H620v160Z\"/>\n",
              "  </svg>\n",
              "    </button>\n",
              "\n",
              "  <style>\n",
              "    .colab-df-container {\n",
              "      display:flex;\n",
              "      gap: 12px;\n",
              "    }\n",
              "\n",
              "    .colab-df-convert {\n",
              "      background-color: #E8F0FE;\n",
              "      border: none;\n",
              "      border-radius: 50%;\n",
              "      cursor: pointer;\n",
              "      display: none;\n",
              "      fill: #1967D2;\n",
              "      height: 32px;\n",
              "      padding: 0 0 0 0;\n",
              "      width: 32px;\n",
              "    }\n",
              "\n",
              "    .colab-df-convert:hover {\n",
              "      background-color: #E2EBFA;\n",
              "      box-shadow: 0px 1px 2px rgba(60, 64, 67, 0.3), 0px 1px 3px 1px rgba(60, 64, 67, 0.15);\n",
              "      fill: #174EA6;\n",
              "    }\n",
              "\n",
              "    .colab-df-buttons div {\n",
              "      margin-bottom: 4px;\n",
              "    }\n",
              "\n",
              "    [theme=dark] .colab-df-convert {\n",
              "      background-color: #3B4455;\n",
              "      fill: #D2E3FC;\n",
              "    }\n",
              "\n",
              "    [theme=dark] .colab-df-convert:hover {\n",
              "      background-color: #434B5C;\n",
              "      box-shadow: 0px 1px 3px 1px rgba(0, 0, 0, 0.15);\n",
              "      filter: drop-shadow(0px 1px 2px rgba(0, 0, 0, 0.3));\n",
              "      fill: #FFFFFF;\n",
              "    }\n",
              "  </style>\n",
              "\n",
              "    <script>\n",
              "      const buttonEl =\n",
              "        document.querySelector('#df-bc735828-e824-4af4-8d02-9e47d88193c1 button.colab-df-convert');\n",
              "      buttonEl.style.display =\n",
              "        google.colab.kernel.accessAllowed ? 'block' : 'none';\n",
              "\n",
              "      async function convertToInteractive(key) {\n",
              "        const element = document.querySelector('#df-bc735828-e824-4af4-8d02-9e47d88193c1');\n",
              "        const dataTable =\n",
              "          await google.colab.kernel.invokeFunction('convertToInteractive',\n",
              "                                                    [key], {});\n",
              "        if (!dataTable) return;\n",
              "\n",
              "        const docLinkHtml = 'Like what you see? Visit the ' +\n",
              "          '<a target=\"_blank\" href=https://colab.research.google.com/notebooks/data_table.ipynb>data table notebook</a>'\n",
              "          + ' to learn more about interactive tables.';\n",
              "        element.innerHTML = '';\n",
              "        dataTable['output_type'] = 'display_data';\n",
              "        await google.colab.output.renderOutput(dataTable, element);\n",
              "        const docLink = document.createElement('div');\n",
              "        docLink.innerHTML = docLinkHtml;\n",
              "        element.appendChild(docLink);\n",
              "      }\n",
              "    </script>\n",
              "  </div>\n",
              "\n",
              "\n",
              "    <div id=\"df-d892fd78-1151-48d6-ac4e-df0d4c6dfae9\">\n",
              "      <button class=\"colab-df-quickchart\" onclick=\"quickchart('df-d892fd78-1151-48d6-ac4e-df0d4c6dfae9')\"\n",
              "                title=\"Suggest charts\"\n",
              "                style=\"display:none;\">\n",
              "\n",
              "<svg xmlns=\"http://www.w3.org/2000/svg\" height=\"24px\"viewBox=\"0 0 24 24\"\n",
              "     width=\"24px\">\n",
              "    <g>\n",
              "        <path d=\"M19 3H5c-1.1 0-2 .9-2 2v14c0 1.1.9 2 2 2h14c1.1 0 2-.9 2-2V5c0-1.1-.9-2-2-2zM9 17H7v-7h2v7zm4 0h-2V7h2v10zm4 0h-2v-4h2v4z\"/>\n",
              "    </g>\n",
              "</svg>\n",
              "      </button>\n",
              "\n",
              "<style>\n",
              "  .colab-df-quickchart {\n",
              "      --bg-color: #E8F0FE;\n",
              "      --fill-color: #1967D2;\n",
              "      --hover-bg-color: #E2EBFA;\n",
              "      --hover-fill-color: #174EA6;\n",
              "      --disabled-fill-color: #AAA;\n",
              "      --disabled-bg-color: #DDD;\n",
              "  }\n",
              "\n",
              "  [theme=dark] .colab-df-quickchart {\n",
              "      --bg-color: #3B4455;\n",
              "      --fill-color: #D2E3FC;\n",
              "      --hover-bg-color: #434B5C;\n",
              "      --hover-fill-color: #FFFFFF;\n",
              "      --disabled-bg-color: #3B4455;\n",
              "      --disabled-fill-color: #666;\n",
              "  }\n",
              "\n",
              "  .colab-df-quickchart {\n",
              "    background-color: var(--bg-color);\n",
              "    border: none;\n",
              "    border-radius: 50%;\n",
              "    cursor: pointer;\n",
              "    display: none;\n",
              "    fill: var(--fill-color);\n",
              "    height: 32px;\n",
              "    padding: 0;\n",
              "    width: 32px;\n",
              "  }\n",
              "\n",
              "  .colab-df-quickchart:hover {\n",
              "    background-color: var(--hover-bg-color);\n",
              "    box-shadow: 0 1px 2px rgba(60, 64, 67, 0.3), 0 1px 3px 1px rgba(60, 64, 67, 0.15);\n",
              "    fill: var(--button-hover-fill-color);\n",
              "  }\n",
              "\n",
              "  .colab-df-quickchart-complete:disabled,\n",
              "  .colab-df-quickchart-complete:disabled:hover {\n",
              "    background-color: var(--disabled-bg-color);\n",
              "    fill: var(--disabled-fill-color);\n",
              "    box-shadow: none;\n",
              "  }\n",
              "\n",
              "  .colab-df-spinner {\n",
              "    border: 2px solid var(--fill-color);\n",
              "    border-color: transparent;\n",
              "    border-bottom-color: var(--fill-color);\n",
              "    animation:\n",
              "      spin 1s steps(1) infinite;\n",
              "  }\n",
              "\n",
              "  @keyframes spin {\n",
              "    0% {\n",
              "      border-color: transparent;\n",
              "      border-bottom-color: var(--fill-color);\n",
              "      border-left-color: var(--fill-color);\n",
              "    }\n",
              "    20% {\n",
              "      border-color: transparent;\n",
              "      border-left-color: var(--fill-color);\n",
              "      border-top-color: var(--fill-color);\n",
              "    }\n",
              "    30% {\n",
              "      border-color: transparent;\n",
              "      border-left-color: var(--fill-color);\n",
              "      border-top-color: var(--fill-color);\n",
              "      border-right-color: var(--fill-color);\n",
              "    }\n",
              "    40% {\n",
              "      border-color: transparent;\n",
              "      border-right-color: var(--fill-color);\n",
              "      border-top-color: var(--fill-color);\n",
              "    }\n",
              "    60% {\n",
              "      border-color: transparent;\n",
              "      border-right-color: var(--fill-color);\n",
              "    }\n",
              "    80% {\n",
              "      border-color: transparent;\n",
              "      border-right-color: var(--fill-color);\n",
              "      border-bottom-color: var(--fill-color);\n",
              "    }\n",
              "    90% {\n",
              "      border-color: transparent;\n",
              "      border-bottom-color: var(--fill-color);\n",
              "    }\n",
              "  }\n",
              "</style>\n",
              "\n",
              "      <script>\n",
              "        async function quickchart(key) {\n",
              "          const quickchartButtonEl =\n",
              "            document.querySelector('#' + key + ' button');\n",
              "          quickchartButtonEl.disabled = true;  // To prevent multiple clicks.\n",
              "          quickchartButtonEl.classList.add('colab-df-spinner');\n",
              "          try {\n",
              "            const charts = await google.colab.kernel.invokeFunction(\n",
              "                'suggestCharts', [key], {});\n",
              "          } catch (error) {\n",
              "            console.error('Error during call to suggestCharts:', error);\n",
              "          }\n",
              "          quickchartButtonEl.classList.remove('colab-df-spinner');\n",
              "          quickchartButtonEl.classList.add('colab-df-quickchart-complete');\n",
              "        }\n",
              "        (() => {\n",
              "          let quickchartButtonEl =\n",
              "            document.querySelector('#df-d892fd78-1151-48d6-ac4e-df0d4c6dfae9 button');\n",
              "          quickchartButtonEl.style.display =\n",
              "            google.colab.kernel.accessAllowed ? 'block' : 'none';\n",
              "        })();\n",
              "      </script>\n",
              "    </div>\n",
              "\n",
              "    </div>\n",
              "  </div>\n"
            ],
            "application/vnd.google.colaboratory.intrinsic+json": {
              "type": "dataframe",
              "variable_name": "week_df"
            }
          },
          "metadata": {},
          "execution_count": 8
        }
      ]
    },
    {
      "cell_type": "code",
      "source": [
        "# توقّعي: لا تجاوز للسعة، وقمم الذروة حوالين 7-8ص و17-18م\n",
        "print(\"any > capacity? →\", (week_df[\"cabin_passenger_count\"] > week_df[\"cabin_capacity\"]).any())\n",
        "print(week_df.groupby([\"scenario_tag\",\"hour\"])[\"cabin_passenger_count\"].mean().round().sort_values(ascending=False).head(10))\n"
      ],
      "metadata": {
        "colab": {
          "base_uri": "https://localhost:8080/"
        },
        "id": "loCKBvKA58PM",
        "outputId": "3db9bbea-48ee-4dac-a004-727bf893efc3"
      },
      "execution_count": 9,
      "outputs": [
        {
          "output_type": "stream",
          "name": "stdout",
          "text": [
            "any > capacity? → False\n",
            "scenario_tag  hour\n",
            "dusty         18      182.0\n",
            "rainy         18      182.0\n",
            "event_kafd    17      181.0\n",
            "              18      181.0\n",
            "normal        18      181.0\n",
            "dusty         17      180.0\n",
            "normal        17      180.0\n",
            "holiday       17      180.0\n",
            "              18      180.0\n",
            "rainy         17      180.0\n",
            "Name: cabin_passenger_count, dtype: float64\n"
          ]
        }
      ]
    },
    {
      "cell_type": "code",
      "source": [
        "from google.colab import files\n",
        "files.download(\"/content/2025_GP_28/masar-sim/data/generated/occupancy_week.csv\")\n"
      ],
      "metadata": {
        "colab": {
          "base_uri": "https://localhost:8080/",
          "height": 17
        },
        "id": "8D1XItCPXJuX",
        "outputId": "fc30020a-f1c6-40f0-daf0-9cd89116fac0"
      },
      "execution_count": 10,
      "outputs": [
        {
          "output_type": "display_data",
          "data": {
            "text/plain": [
              "<IPython.core.display.Javascript object>"
            ],
            "application/javascript": [
              "\n",
              "    async function download(id, filename, size) {\n",
              "      if (!google.colab.kernel.accessAllowed) {\n",
              "        return;\n",
              "      }\n",
              "      const div = document.createElement('div');\n",
              "      const label = document.createElement('label');\n",
              "      label.textContent = `Downloading \"${filename}\": `;\n",
              "      div.appendChild(label);\n",
              "      const progress = document.createElement('progress');\n",
              "      progress.max = size;\n",
              "      div.appendChild(progress);\n",
              "      document.body.appendChild(div);\n",
              "\n",
              "      const buffers = [];\n",
              "      let downloaded = 0;\n",
              "\n",
              "      const channel = await google.colab.kernel.comms.open(id);\n",
              "      // Send a message to notify the kernel that we're ready.\n",
              "      channel.send({})\n",
              "\n",
              "      for await (const message of channel.messages) {\n",
              "        // Send a message to notify the kernel that we're ready.\n",
              "        channel.send({})\n",
              "        if (message.buffers) {\n",
              "          for (const buffer of message.buffers) {\n",
              "            buffers.push(buffer);\n",
              "            downloaded += buffer.byteLength;\n",
              "            progress.value = downloaded;\n",
              "          }\n",
              "        }\n",
              "      }\n",
              "      const blob = new Blob(buffers, {type: 'application/binary'});\n",
              "      const a = document.createElement('a');\n",
              "      a.href = window.URL.createObjectURL(blob);\n",
              "      a.download = filename;\n",
              "      div.appendChild(a);\n",
              "      a.click();\n",
              "      div.remove();\n",
              "    }\n",
              "  "
            ]
          },
          "metadata": {}
        },
        {
          "output_type": "display_data",
          "data": {
            "text/plain": [
              "<IPython.core.display.Javascript object>"
            ],
            "application/javascript": [
              "download(\"download_24699d0a-d161-42d4-8aff-3c264838e542\", \"occupancy_week.csv\", 10030583)"
            ]
          },
          "metadata": {}
        }
      ]
    },
    {
      "cell_type": "code",
      "source": [
        "week_df[\"scenario_tag\"].value_counts()\n"
      ],
      "metadata": {
        "colab": {
          "base_uri": "https://localhost:8080/",
          "height": 272
        },
        "id": "8QZbUF_QawKv",
        "outputId": "cd7fc6b1-d109-4fe4-eded-f0ec6f566ab2"
      },
      "execution_count": 11,
      "outputs": [
        {
          "output_type": "execute_result",
          "data": {
            "text/plain": [
              "scenario_tag\n",
              "normal        19458\n",
              "rainy          6486\n",
              "event_kafd     6486\n",
              "holiday        6486\n",
              "dusty          6486\n",
              "Name: count, dtype: int64"
            ],
            "text/html": [
              "<div>\n",
              "<style scoped>\n",
              "    .dataframe tbody tr th:only-of-type {\n",
              "        vertical-align: middle;\n",
              "    }\n",
              "\n",
              "    .dataframe tbody tr th {\n",
              "        vertical-align: top;\n",
              "    }\n",
              "\n",
              "    .dataframe thead th {\n",
              "        text-align: right;\n",
              "    }\n",
              "</style>\n",
              "<table border=\"1\" class=\"dataframe\">\n",
              "  <thead>\n",
              "    <tr style=\"text-align: right;\">\n",
              "      <th></th>\n",
              "      <th>count</th>\n",
              "    </tr>\n",
              "    <tr>\n",
              "      <th>scenario_tag</th>\n",
              "      <th></th>\n",
              "    </tr>\n",
              "  </thead>\n",
              "  <tbody>\n",
              "    <tr>\n",
              "      <th>normal</th>\n",
              "      <td>19458</td>\n",
              "    </tr>\n",
              "    <tr>\n",
              "      <th>rainy</th>\n",
              "      <td>6486</td>\n",
              "    </tr>\n",
              "    <tr>\n",
              "      <th>event_kafd</th>\n",
              "      <td>6486</td>\n",
              "    </tr>\n",
              "    <tr>\n",
              "      <th>holiday</th>\n",
              "      <td>6486</td>\n",
              "    </tr>\n",
              "    <tr>\n",
              "      <th>dusty</th>\n",
              "      <td>6486</td>\n",
              "    </tr>\n",
              "  </tbody>\n",
              "</table>\n",
              "</div><br><label><b>dtype:</b> int64</label>"
            ]
          },
          "metadata": {},
          "execution_count": 11
        }
      ]
    },
    {
      "cell_type": "code",
      "source": [
        "week_df[\"timestamp\"].sort_values().head(10)\n"
      ],
      "metadata": {
        "colab": {
          "base_uri": "https://localhost:8080/",
          "height": 397
        },
        "id": "oBQaMyAya2aS",
        "outputId": "0591f899-3a39-46c3-8a29-228ccfc03ddf"
      },
      "execution_count": 12,
      "outputs": [
        {
          "output_type": "execute_result",
          "data": {
            "text/plain": [
              "0    2025-09-21 00:00:00\n",
              "1    2025-09-21 00:00:00\n",
              "2    2025-09-21 00:00:00\n",
              "3    2025-09-21 00:00:00\n",
              "4    2025-09-21 00:00:00\n",
              "5    2025-09-21 00:00:00\n",
              "11   2025-09-21 06:00:00\n",
              "10   2025-09-21 06:00:00\n",
              "9    2025-09-21 06:00:00\n",
              "7    2025-09-21 06:00:00\n",
              "Name: timestamp, dtype: datetime64[ns]"
            ],
            "text/html": [
              "<div>\n",
              "<style scoped>\n",
              "    .dataframe tbody tr th:only-of-type {\n",
              "        vertical-align: middle;\n",
              "    }\n",
              "\n",
              "    .dataframe tbody tr th {\n",
              "        vertical-align: top;\n",
              "    }\n",
              "\n",
              "    .dataframe thead th {\n",
              "        text-align: right;\n",
              "    }\n",
              "</style>\n",
              "<table border=\"1\" class=\"dataframe\">\n",
              "  <thead>\n",
              "    <tr style=\"text-align: right;\">\n",
              "      <th></th>\n",
              "      <th>timestamp</th>\n",
              "    </tr>\n",
              "  </thead>\n",
              "  <tbody>\n",
              "    <tr>\n",
              "      <th>0</th>\n",
              "      <td>2025-09-21 00:00:00</td>\n",
              "    </tr>\n",
              "    <tr>\n",
              "      <th>1</th>\n",
              "      <td>2025-09-21 00:00:00</td>\n",
              "    </tr>\n",
              "    <tr>\n",
              "      <th>2</th>\n",
              "      <td>2025-09-21 00:00:00</td>\n",
              "    </tr>\n",
              "    <tr>\n",
              "      <th>3</th>\n",
              "      <td>2025-09-21 00:00:00</td>\n",
              "    </tr>\n",
              "    <tr>\n",
              "      <th>4</th>\n",
              "      <td>2025-09-21 00:00:00</td>\n",
              "    </tr>\n",
              "    <tr>\n",
              "      <th>5</th>\n",
              "      <td>2025-09-21 00:00:00</td>\n",
              "    </tr>\n",
              "    <tr>\n",
              "      <th>11</th>\n",
              "      <td>2025-09-21 06:00:00</td>\n",
              "    </tr>\n",
              "    <tr>\n",
              "      <th>10</th>\n",
              "      <td>2025-09-21 06:00:00</td>\n",
              "    </tr>\n",
              "    <tr>\n",
              "      <th>9</th>\n",
              "      <td>2025-09-21 06:00:00</td>\n",
              "    </tr>\n",
              "    <tr>\n",
              "      <th>7</th>\n",
              "      <td>2025-09-21 06:00:00</td>\n",
              "    </tr>\n",
              "  </tbody>\n",
              "</table>\n",
              "</div><br><label><b>dtype:</b> datetime64[ns]</label>"
            ]
          },
          "metadata": {},
          "execution_count": 12
        }
      ]
    },
    {
      "cell_type": "code",
      "source": [
        "week_df[\"demand_norm_final\"].describe()\n"
      ],
      "metadata": {
        "colab": {
          "base_uri": "https://localhost:8080/",
          "height": 335
        },
        "id": "IVX8ph2Fa_Bu",
        "outputId": "a8b69095-dc10-4fa5-c3b3-2e0009bbcaa6"
      },
      "execution_count": 13,
      "outputs": [
        {
          "output_type": "execute_result",
          "data": {
            "text/plain": [
              "count    45402.000000\n",
              "mean         0.259256\n",
              "std          0.313015\n",
              "min          0.047619\n",
              "25%          0.047635\n",
              "50%          0.063440\n",
              "75%          0.399195\n",
              "max          1.000000\n",
              "Name: demand_norm_final, dtype: float64"
            ],
            "text/html": [
              "<div>\n",
              "<style scoped>\n",
              "    .dataframe tbody tr th:only-of-type {\n",
              "        vertical-align: middle;\n",
              "    }\n",
              "\n",
              "    .dataframe tbody tr th {\n",
              "        vertical-align: top;\n",
              "    }\n",
              "\n",
              "    .dataframe thead th {\n",
              "        text-align: right;\n",
              "    }\n",
              "</style>\n",
              "<table border=\"1\" class=\"dataframe\">\n",
              "  <thead>\n",
              "    <tr style=\"text-align: right;\">\n",
              "      <th></th>\n",
              "      <th>demand_norm_final</th>\n",
              "    </tr>\n",
              "  </thead>\n",
              "  <tbody>\n",
              "    <tr>\n",
              "      <th>count</th>\n",
              "      <td>45402.000000</td>\n",
              "    </tr>\n",
              "    <tr>\n",
              "      <th>mean</th>\n",
              "      <td>0.259256</td>\n",
              "    </tr>\n",
              "    <tr>\n",
              "      <th>std</th>\n",
              "      <td>0.313015</td>\n",
              "    </tr>\n",
              "    <tr>\n",
              "      <th>min</th>\n",
              "      <td>0.047619</td>\n",
              "    </tr>\n",
              "    <tr>\n",
              "      <th>25%</th>\n",
              "      <td>0.047635</td>\n",
              "    </tr>\n",
              "    <tr>\n",
              "      <th>50%</th>\n",
              "      <td>0.063440</td>\n",
              "    </tr>\n",
              "    <tr>\n",
              "      <th>75%</th>\n",
              "      <td>0.399195</td>\n",
              "    </tr>\n",
              "    <tr>\n",
              "      <th>max</th>\n",
              "      <td>1.000000</td>\n",
              "    </tr>\n",
              "  </tbody>\n",
              "</table>\n",
              "</div><br><label><b>dtype:</b> float64</label>"
            ]
          },
          "metadata": {},
          "execution_count": 13
        }
      ]
    },
    {
      "cell_type": "code",
      "source": [
        "week_df[\"peak_capacity\"].unique()\n"
      ],
      "metadata": {
        "colab": {
          "base_uri": "https://localhost:8080/"
        },
        "id": "HfD0aDrGbBt3",
        "outputId": "b33c8d18-923c-4e9c-aa32-560ba67776f7"
      },
      "execution_count": 14,
      "outputs": [
        {
          "output_type": "execute_result",
          "data": {
            "text/plain": [
              "array([220])"
            ]
          },
          "metadata": {},
          "execution_count": 14
        }
      ]
    },
    {
      "cell_type": "code",
      "source": [
        "print(\"هل في تجاوز للسعة؟ ➡️\", (week_df[\"cabin_passenger_count\"] > week_df[\"cabin_capacity\"]).any())\n"
      ],
      "metadata": {
        "colab": {
          "base_uri": "https://localhost:8080/"
        },
        "id": "yJHi4QLDbGoS",
        "outputId": "24e152d4-bcbc-464f-961f-5a034fc77fb6"
      },
      "execution_count": 15,
      "outputs": [
        {
          "output_type": "stream",
          "name": "stdout",
          "text": [
            "هل في تجاوز للسعة؟ ➡️ False\n"
          ]
        }
      ]
    },
    {
      "cell_type": "code",
      "source": [
        "week_df[week_df[\"cabin_passenger_count\"] > week_df[\"cabin_capacity\"]].head()\n"
      ],
      "metadata": {
        "colab": {
          "base_uri": "https://localhost:8080/",
          "height": 98
        },
        "id": "c7me4PT3bJBj",
        "outputId": "70140390-d6fa-4b9b-abcf-95b81184a2f2"
      },
      "execution_count": 21,
      "outputs": [
        {
          "output_type": "execute_result",
          "data": {
            "text/plain": [
              "Empty DataFrame\n",
              "Columns: [timestamp, station_id, base_demand, base_demand_norm, modifier, weather_code, special_event_type, event_flag, holiday_flag, base_demand_adj, demand_norm_final, peak_capacity, lambda, cabin_passenger_count, vip_cabin_passenger_count, cabin_capacity, vip_cabin_capacity, cabin_occupancy, vip_cabin_occupancy, platform_queue_estimate, platform_wait_sec, hour, day_of_week, is_weekend, train_id, carriage_count, headway_seconds, scenario_tag, date]\n",
              "Index: []\n",
              "\n",
              "[0 rows x 29 columns]"
            ],
            "text/html": [
              "\n",
              "  <div id=\"df-4016c9d4-c062-4685-aac3-7f0a847de071\" class=\"colab-df-container\">\n",
              "    <div>\n",
              "<style scoped>\n",
              "    .dataframe tbody tr th:only-of-type {\n",
              "        vertical-align: middle;\n",
              "    }\n",
              "\n",
              "    .dataframe tbody tr th {\n",
              "        vertical-align: top;\n",
              "    }\n",
              "\n",
              "    .dataframe thead th {\n",
              "        text-align: right;\n",
              "    }\n",
              "</style>\n",
              "<table border=\"1\" class=\"dataframe\">\n",
              "  <thead>\n",
              "    <tr style=\"text-align: right;\">\n",
              "      <th></th>\n",
              "      <th>timestamp</th>\n",
              "      <th>station_id</th>\n",
              "      <th>base_demand</th>\n",
              "      <th>base_demand_norm</th>\n",
              "      <th>modifier</th>\n",
              "      <th>weather_code</th>\n",
              "      <th>special_event_type</th>\n",
              "      <th>event_flag</th>\n",
              "      <th>holiday_flag</th>\n",
              "      <th>base_demand_adj</th>\n",
              "      <th>...</th>\n",
              "      <th>platform_queue_estimate</th>\n",
              "      <th>platform_wait_sec</th>\n",
              "      <th>hour</th>\n",
              "      <th>day_of_week</th>\n",
              "      <th>is_weekend</th>\n",
              "      <th>train_id</th>\n",
              "      <th>carriage_count</th>\n",
              "      <th>headway_seconds</th>\n",
              "      <th>scenario_tag</th>\n",
              "      <th>date</th>\n",
              "    </tr>\n",
              "  </thead>\n",
              "  <tbody>\n",
              "  </tbody>\n",
              "</table>\n",
              "<p>0 rows × 29 columns</p>\n",
              "</div>\n",
              "    <div class=\"colab-df-buttons\">\n",
              "\n",
              "  <div class=\"colab-df-container\">\n",
              "    <button class=\"colab-df-convert\" onclick=\"convertToInteractive('df-4016c9d4-c062-4685-aac3-7f0a847de071')\"\n",
              "            title=\"Convert this dataframe to an interactive table.\"\n",
              "            style=\"display:none;\">\n",
              "\n",
              "  <svg xmlns=\"http://www.w3.org/2000/svg\" height=\"24px\" viewBox=\"0 -960 960 960\">\n",
              "    <path d=\"M120-120v-720h720v720H120Zm60-500h600v-160H180v160Zm220 220h160v-160H400v160Zm0 220h160v-160H400v160ZM180-400h160v-160H180v160Zm440 0h160v-160H620v160ZM180-180h160v-160H180v160Zm440 0h160v-160H620v160Z\"/>\n",
              "  </svg>\n",
              "    </button>\n",
              "\n",
              "  <style>\n",
              "    .colab-df-container {\n",
              "      display:flex;\n",
              "      gap: 12px;\n",
              "    }\n",
              "\n",
              "    .colab-df-convert {\n",
              "      background-color: #E8F0FE;\n",
              "      border: none;\n",
              "      border-radius: 50%;\n",
              "      cursor: pointer;\n",
              "      display: none;\n",
              "      fill: #1967D2;\n",
              "      height: 32px;\n",
              "      padding: 0 0 0 0;\n",
              "      width: 32px;\n",
              "    }\n",
              "\n",
              "    .colab-df-convert:hover {\n",
              "      background-color: #E2EBFA;\n",
              "      box-shadow: 0px 1px 2px rgba(60, 64, 67, 0.3), 0px 1px 3px 1px rgba(60, 64, 67, 0.15);\n",
              "      fill: #174EA6;\n",
              "    }\n",
              "\n",
              "    .colab-df-buttons div {\n",
              "      margin-bottom: 4px;\n",
              "    }\n",
              "\n",
              "    [theme=dark] .colab-df-convert {\n",
              "      background-color: #3B4455;\n",
              "      fill: #D2E3FC;\n",
              "    }\n",
              "\n",
              "    [theme=dark] .colab-df-convert:hover {\n",
              "      background-color: #434B5C;\n",
              "      box-shadow: 0px 1px 3px 1px rgba(0, 0, 0, 0.15);\n",
              "      filter: drop-shadow(0px 1px 2px rgba(0, 0, 0, 0.3));\n",
              "      fill: #FFFFFF;\n",
              "    }\n",
              "  </style>\n",
              "\n",
              "    <script>\n",
              "      const buttonEl =\n",
              "        document.querySelector('#df-4016c9d4-c062-4685-aac3-7f0a847de071 button.colab-df-convert');\n",
              "      buttonEl.style.display =\n",
              "        google.colab.kernel.accessAllowed ? 'block' : 'none';\n",
              "\n",
              "      async function convertToInteractive(key) {\n",
              "        const element = document.querySelector('#df-4016c9d4-c062-4685-aac3-7f0a847de071');\n",
              "        const dataTable =\n",
              "          await google.colab.kernel.invokeFunction('convertToInteractive',\n",
              "                                                    [key], {});\n",
              "        if (!dataTable) return;\n",
              "\n",
              "        const docLinkHtml = 'Like what you see? Visit the ' +\n",
              "          '<a target=\"_blank\" href=https://colab.research.google.com/notebooks/data_table.ipynb>data table notebook</a>'\n",
              "          + ' to learn more about interactive tables.';\n",
              "        element.innerHTML = '';\n",
              "        dataTable['output_type'] = 'display_data';\n",
              "        await google.colab.output.renderOutput(dataTable, element);\n",
              "        const docLink = document.createElement('div');\n",
              "        docLink.innerHTML = docLinkHtml;\n",
              "        element.appendChild(docLink);\n",
              "      }\n",
              "    </script>\n",
              "  </div>\n",
              "\n",
              "\n",
              "    </div>\n",
              "  </div>\n"
            ],
            "application/vnd.google.colaboratory.intrinsic+json": {
              "type": "dataframe"
            }
          },
          "metadata": {},
          "execution_count": 21
        }
      ]
    },
    {
      "cell_type": "code",
      "source": [
        "week_df.groupby(\"scenario_tag\")[[\"modifier\", \"base_demand\", \"demand_norm_corrected\"]].mean().round(3)"
      ],
      "metadata": {
        "colab": {
          "base_uri": "https://localhost:8080/",
          "height": 237
        },
        "id": "707sAJd6bo_y",
        "outputId": "998382b1-c1f3-480a-d48d-9b061af7628b"
      },
      "execution_count": 24,
      "outputs": [
        {
          "output_type": "execute_result",
          "data": {
            "text/plain": [
              "              modifier  base_demand  demand_norm_corrected\n",
              "scenario_tag                                              \n",
              "dusty            0.720        0.272                  0.054\n",
              "event_kafd       2.308        0.272                  0.184\n",
              "holiday          1.600        0.272                  0.126\n",
              "normal           0.773        0.272                  0.058\n",
              "rainy            0.560        0.272                  0.041"
            ],
            "text/html": [
              "\n",
              "  <div id=\"df-8f8c1481-5508-455b-acf2-38e396a107eb\" class=\"colab-df-container\">\n",
              "    <div>\n",
              "<style scoped>\n",
              "    .dataframe tbody tr th:only-of-type {\n",
              "        vertical-align: middle;\n",
              "    }\n",
              "\n",
              "    .dataframe tbody tr th {\n",
              "        vertical-align: top;\n",
              "    }\n",
              "\n",
              "    .dataframe thead th {\n",
              "        text-align: right;\n",
              "    }\n",
              "</style>\n",
              "<table border=\"1\" class=\"dataframe\">\n",
              "  <thead>\n",
              "    <tr style=\"text-align: right;\">\n",
              "      <th></th>\n",
              "      <th>modifier</th>\n",
              "      <th>base_demand</th>\n",
              "      <th>demand_norm_corrected</th>\n",
              "    </tr>\n",
              "    <tr>\n",
              "      <th>scenario_tag</th>\n",
              "      <th></th>\n",
              "      <th></th>\n",
              "      <th></th>\n",
              "    </tr>\n",
              "  </thead>\n",
              "  <tbody>\n",
              "    <tr>\n",
              "      <th>dusty</th>\n",
              "      <td>0.720</td>\n",
              "      <td>0.272</td>\n",
              "      <td>0.054</td>\n",
              "    </tr>\n",
              "    <tr>\n",
              "      <th>event_kafd</th>\n",
              "      <td>2.308</td>\n",
              "      <td>0.272</td>\n",
              "      <td>0.184</td>\n",
              "    </tr>\n",
              "    <tr>\n",
              "      <th>holiday</th>\n",
              "      <td>1.600</td>\n",
              "      <td>0.272</td>\n",
              "      <td>0.126</td>\n",
              "    </tr>\n",
              "    <tr>\n",
              "      <th>normal</th>\n",
              "      <td>0.773</td>\n",
              "      <td>0.272</td>\n",
              "      <td>0.058</td>\n",
              "    </tr>\n",
              "    <tr>\n",
              "      <th>rainy</th>\n",
              "      <td>0.560</td>\n",
              "      <td>0.272</td>\n",
              "      <td>0.041</td>\n",
              "    </tr>\n",
              "  </tbody>\n",
              "</table>\n",
              "</div>\n",
              "    <div class=\"colab-df-buttons\">\n",
              "\n",
              "  <div class=\"colab-df-container\">\n",
              "    <button class=\"colab-df-convert\" onclick=\"convertToInteractive('df-8f8c1481-5508-455b-acf2-38e396a107eb')\"\n",
              "            title=\"Convert this dataframe to an interactive table.\"\n",
              "            style=\"display:none;\">\n",
              "\n",
              "  <svg xmlns=\"http://www.w3.org/2000/svg\" height=\"24px\" viewBox=\"0 -960 960 960\">\n",
              "    <path d=\"M120-120v-720h720v720H120Zm60-500h600v-160H180v160Zm220 220h160v-160H400v160Zm0 220h160v-160H400v160ZM180-400h160v-160H180v160Zm440 0h160v-160H620v160ZM180-180h160v-160H180v160Zm440 0h160v-160H620v160Z\"/>\n",
              "  </svg>\n",
              "    </button>\n",
              "\n",
              "  <style>\n",
              "    .colab-df-container {\n",
              "      display:flex;\n",
              "      gap: 12px;\n",
              "    }\n",
              "\n",
              "    .colab-df-convert {\n",
              "      background-color: #E8F0FE;\n",
              "      border: none;\n",
              "      border-radius: 50%;\n",
              "      cursor: pointer;\n",
              "      display: none;\n",
              "      fill: #1967D2;\n",
              "      height: 32px;\n",
              "      padding: 0 0 0 0;\n",
              "      width: 32px;\n",
              "    }\n",
              "\n",
              "    .colab-df-convert:hover {\n",
              "      background-color: #E2EBFA;\n",
              "      box-shadow: 0px 1px 2px rgba(60, 64, 67, 0.3), 0px 1px 3px 1px rgba(60, 64, 67, 0.15);\n",
              "      fill: #174EA6;\n",
              "    }\n",
              "\n",
              "    .colab-df-buttons div {\n",
              "      margin-bottom: 4px;\n",
              "    }\n",
              "\n",
              "    [theme=dark] .colab-df-convert {\n",
              "      background-color: #3B4455;\n",
              "      fill: #D2E3FC;\n",
              "    }\n",
              "\n",
              "    [theme=dark] .colab-df-convert:hover {\n",
              "      background-color: #434B5C;\n",
              "      box-shadow: 0px 1px 3px 1px rgba(0, 0, 0, 0.15);\n",
              "      filter: drop-shadow(0px 1px 2px rgba(0, 0, 0, 0.3));\n",
              "      fill: #FFFFFF;\n",
              "    }\n",
              "  </style>\n",
              "\n",
              "    <script>\n",
              "      const buttonEl =\n",
              "        document.querySelector('#df-8f8c1481-5508-455b-acf2-38e396a107eb button.colab-df-convert');\n",
              "      buttonEl.style.display =\n",
              "        google.colab.kernel.accessAllowed ? 'block' : 'none';\n",
              "\n",
              "      async function convertToInteractive(key) {\n",
              "        const element = document.querySelector('#df-8f8c1481-5508-455b-acf2-38e396a107eb');\n",
              "        const dataTable =\n",
              "          await google.colab.kernel.invokeFunction('convertToInteractive',\n",
              "                                                    [key], {});\n",
              "        if (!dataTable) return;\n",
              "\n",
              "        const docLinkHtml = 'Like what you see? Visit the ' +\n",
              "          '<a target=\"_blank\" href=https://colab.research.google.com/notebooks/data_table.ipynb>data table notebook</a>'\n",
              "          + ' to learn more about interactive tables.';\n",
              "        element.innerHTML = '';\n",
              "        dataTable['output_type'] = 'display_data';\n",
              "        await google.colab.output.renderOutput(dataTable, element);\n",
              "        const docLink = document.createElement('div');\n",
              "        docLink.innerHTML = docLinkHtml;\n",
              "        element.appendChild(docLink);\n",
              "      }\n",
              "    </script>\n",
              "  </div>\n",
              "\n",
              "\n",
              "    <div id=\"df-464cea15-5259-495b-aa24-7e14b9046258\">\n",
              "      <button class=\"colab-df-quickchart\" onclick=\"quickchart('df-464cea15-5259-495b-aa24-7e14b9046258')\"\n",
              "                title=\"Suggest charts\"\n",
              "                style=\"display:none;\">\n",
              "\n",
              "<svg xmlns=\"http://www.w3.org/2000/svg\" height=\"24px\"viewBox=\"0 0 24 24\"\n",
              "     width=\"24px\">\n",
              "    <g>\n",
              "        <path d=\"M19 3H5c-1.1 0-2 .9-2 2v14c0 1.1.9 2 2 2h14c1.1 0 2-.9 2-2V5c0-1.1-.9-2-2-2zM9 17H7v-7h2v7zm4 0h-2V7h2v10zm4 0h-2v-4h2v4z\"/>\n",
              "    </g>\n",
              "</svg>\n",
              "      </button>\n",
              "\n",
              "<style>\n",
              "  .colab-df-quickchart {\n",
              "      --bg-color: #E8F0FE;\n",
              "      --fill-color: #1967D2;\n",
              "      --hover-bg-color: #E2EBFA;\n",
              "      --hover-fill-color: #174EA6;\n",
              "      --disabled-fill-color: #AAA;\n",
              "      --disabled-bg-color: #DDD;\n",
              "  }\n",
              "\n",
              "  [theme=dark] .colab-df-quickchart {\n",
              "      --bg-color: #3B4455;\n",
              "      --fill-color: #D2E3FC;\n",
              "      --hover-bg-color: #434B5C;\n",
              "      --hover-fill-color: #FFFFFF;\n",
              "      --disabled-bg-color: #3B4455;\n",
              "      --disabled-fill-color: #666;\n",
              "  }\n",
              "\n",
              "  .colab-df-quickchart {\n",
              "    background-color: var(--bg-color);\n",
              "    border: none;\n",
              "    border-radius: 50%;\n",
              "    cursor: pointer;\n",
              "    display: none;\n",
              "    fill: var(--fill-color);\n",
              "    height: 32px;\n",
              "    padding: 0;\n",
              "    width: 32px;\n",
              "  }\n",
              "\n",
              "  .colab-df-quickchart:hover {\n",
              "    background-color: var(--hover-bg-color);\n",
              "    box-shadow: 0 1px 2px rgba(60, 64, 67, 0.3), 0 1px 3px 1px rgba(60, 64, 67, 0.15);\n",
              "    fill: var(--button-hover-fill-color);\n",
              "  }\n",
              "\n",
              "  .colab-df-quickchart-complete:disabled,\n",
              "  .colab-df-quickchart-complete:disabled:hover {\n",
              "    background-color: var(--disabled-bg-color);\n",
              "    fill: var(--disabled-fill-color);\n",
              "    box-shadow: none;\n",
              "  }\n",
              "\n",
              "  .colab-df-spinner {\n",
              "    border: 2px solid var(--fill-color);\n",
              "    border-color: transparent;\n",
              "    border-bottom-color: var(--fill-color);\n",
              "    animation:\n",
              "      spin 1s steps(1) infinite;\n",
              "  }\n",
              "\n",
              "  @keyframes spin {\n",
              "    0% {\n",
              "      border-color: transparent;\n",
              "      border-bottom-color: var(--fill-color);\n",
              "      border-left-color: var(--fill-color);\n",
              "    }\n",
              "    20% {\n",
              "      border-color: transparent;\n",
              "      border-left-color: var(--fill-color);\n",
              "      border-top-color: var(--fill-color);\n",
              "    }\n",
              "    30% {\n",
              "      border-color: transparent;\n",
              "      border-left-color: var(--fill-color);\n",
              "      border-top-color: var(--fill-color);\n",
              "      border-right-color: var(--fill-color);\n",
              "    }\n",
              "    40% {\n",
              "      border-color: transparent;\n",
              "      border-right-color: var(--fill-color);\n",
              "      border-top-color: var(--fill-color);\n",
              "    }\n",
              "    60% {\n",
              "      border-color: transparent;\n",
              "      border-right-color: var(--fill-color);\n",
              "    }\n",
              "    80% {\n",
              "      border-color: transparent;\n",
              "      border-right-color: var(--fill-color);\n",
              "      border-bottom-color: var(--fill-color);\n",
              "    }\n",
              "    90% {\n",
              "      border-color: transparent;\n",
              "      border-bottom-color: var(--fill-color);\n",
              "    }\n",
              "  }\n",
              "</style>\n",
              "\n",
              "      <script>\n",
              "        async function quickchart(key) {\n",
              "          const quickchartButtonEl =\n",
              "            document.querySelector('#' + key + ' button');\n",
              "          quickchartButtonEl.disabled = true;  // To prevent multiple clicks.\n",
              "          quickchartButtonEl.classList.add('colab-df-spinner');\n",
              "          try {\n",
              "            const charts = await google.colab.kernel.invokeFunction(\n",
              "                'suggestCharts', [key], {});\n",
              "          } catch (error) {\n",
              "            console.error('Error during call to suggestCharts:', error);\n",
              "          }\n",
              "          quickchartButtonEl.classList.remove('colab-df-spinner');\n",
              "          quickchartButtonEl.classList.add('colab-df-quickchart-complete');\n",
              "        }\n",
              "        (() => {\n",
              "          let quickchartButtonEl =\n",
              "            document.querySelector('#df-464cea15-5259-495b-aa24-7e14b9046258 button');\n",
              "          quickchartButtonEl.style.display =\n",
              "            google.colab.kernel.accessAllowed ? 'block' : 'none';\n",
              "        })();\n",
              "      </script>\n",
              "    </div>\n",
              "\n",
              "    </div>\n",
              "  </div>\n"
            ],
            "application/vnd.google.colaboratory.intrinsic+json": {
              "type": "dataframe",
              "summary": "{\n  \"name\": \"week_df\",\n  \"rows\": 5,\n  \"fields\": [\n    {\n      \"column\": \"scenario_tag\",\n      \"properties\": {\n        \"dtype\": \"string\",\n        \"num_unique_values\": 5,\n        \"samples\": [\n          \"event_kafd\",\n          \"rainy\",\n          \"holiday\"\n        ],\n        \"semantic_type\": \"\",\n        \"description\": \"\"\n      }\n    },\n    {\n      \"column\": \"modifier\",\n      \"properties\": {\n        \"dtype\": \"number\",\n        \"std\": 0.7432511015800783,\n        \"min\": 0.56,\n        \"max\": 2.308,\n        \"num_unique_values\": 5,\n        \"samples\": [\n          2.308,\n          0.56,\n          1.6\n        ],\n        \"semantic_type\": \"\",\n        \"description\": \"\"\n      }\n    },\n    {\n      \"column\": \"base_demand\",\n      \"properties\": {\n        \"dtype\": \"number\",\n        \"std\": 0.0,\n        \"min\": 0.272,\n        \"max\": 0.272,\n        \"num_unique_values\": 1,\n        \"samples\": [\n          0.272\n        ],\n        \"semantic_type\": \"\",\n        \"description\": \"\"\n      }\n    },\n    {\n      \"column\": \"demand_norm_corrected\",\n      \"properties\": {\n        \"dtype\": \"number\",\n        \"std\": 0.06086706827176745,\n        \"min\": 0.041,\n        \"max\": 0.184,\n        \"num_unique_values\": 5,\n        \"samples\": [\n          0.184\n        ],\n        \"semantic_type\": \"\",\n        \"description\": \"\"\n      }\n    }\n  ]\n}"
            }
          },
          "metadata": {},
          "execution_count": 24
        }
      ]
    },
    {
      "cell_type": "code",
      "source": [
        "import matplotlib.pyplot as plt\n",
        "from sklearn.preprocessing import MinMaxScaler\n",
        "import pandas as pd\n",
        "\n",
        "# Replace the placeholder with the actual column name from your DataFrame.\n",
        "# 'base_demand_adj' is the most logical choice.\n",
        "RAW_COLUMN_NAME = 'base_demand_adj'\n",
        "\n",
        "# The rest of the code remains the same.\n",
        "scaler = MinMaxScaler()\n",
        "week_df['demand_norm_corrected'] = scaler.fit_transform(week_df[[RAW_COLUMN_NAME]])\n",
        "\n",
        "plt.figure(figsize=(10, 6))\n",
        "average_demand = week_df.groupby(\"scenario_tag\")[\"demand_norm_corrected\"].mean()\n",
        "\n",
        "\n",
        "average_demand.plot(kind=\"bar\", title=\"Average Crowd Level per Scenario\")\n",
        "\n",
        "plt.ylabel(\"Normalized Demand\")\n",
        "plt.xlabel(\"Scenario\")\n",
        "plt.xticks(rotation=0)\n",
        "plt.tight_layout()\n",
        "plt.show()\n",
        "\n",
        "# --- End of Edit ---"
      ],
      "metadata": {
        "colab": {
          "base_uri": "https://localhost:8080/",
          "height": 607
        },
        "id": "m4ktG46Ibqmq",
        "outputId": "1d1bc8f8-32d2-4b0b-b999-8aa18b2e076a"
      },
      "execution_count": 23,
      "outputs": [
        {
          "output_type": "display_data",
          "data": {
            "text/plain": [
              "<Figure size 1000x600 with 1 Axes>"
            ],
            "image/png": "[encoded data removed]"
          },
          "metadata": {}
        }
      ]
    },
    {
      "cell_type": "code",
      "source": [
        "import yaml\n",
        "CONF = \"/content/2025_GP_28/masar-sim/sims/00_config.yaml\"\n",
        "with open(CONF) as f:\n",
        "    config = yaml.safe_load(f)\n",
        "\n",
        "print(\"has multipliers:\", \"multipliers\" in config)\n",
        "print(\"weather keys:\", list(config[\"multipliers\"][\"weather\"].keys()))\n",
        "print(\"event keys:\", list(config[\"multipliers\"][\"events\"].keys()))\n"
      ],
      "metadata": {
        "colab": {
          "base_uri": "https://localhost:8080/"
        },
        "id": "LCtNvQrOuoKS",
        "outputId": "3d650b29-be19-4d40-c2da-c41d20fe98ff"
      },
      "execution_count": 25,
      "outputs": [
        {
          "output_type": "stream",
          "name": "stdout",
          "text": [
            "has multipliers: True\n",
            "weather keys: ['Sunny', 'Cloudy', 'Dusty', 'Rainy']\n",
            "event keys: ['Concert', 'Sports', 'Expo', 'Other', 'CityWideBackground']\n"
          ]
        }
      ]
    },
    {
      "cell_type": "code",
      "source": [
        "import json, csv, os\n",
        "\n",
        "SEED = \"/content/2025_GP_28/masar-sim/data/seeds\"\n",
        "\n",
        "# تحميل ملفات الـ seeds\n",
        "with open(f\"{SEED}/stations.json\") as f:\n",
        "    stations = json.load(f)\n",
        "with open(f\"{SEED}/weather_patterns.json\") as f:\n",
        "    weather = json.load(f)\n",
        "with open(f\"{SEED}/calendar_events.csv\") as f:\n",
        "    events = list(csv.DictReader(f))\n",
        "with open(f\"{SEED}/holidays.csv\") as f:\n",
        "    holidays = list(csv.DictReader(f))\n",
        "\n",
        "# إنشاء قاموس seeds\n",
        "seeds = {\n",
        "    \"stations\": stations,\n",
        "    \"weather\": weather,\n",
        "    \"events\": events,\n",
        "    \"holidays\": holidays\n",
        "}\n"
      ],
      "metadata": {
        "id": "reBbeKZEwXcZ"
      },
      "execution_count": 26,
      "outputs": []
    },
    {
      "cell_type": "code",
      "source": [
        "import modifiers  # <-- Add this line\n",
        "from datetime import datetime\n",
        "\n",
        "# Make sure 'seeds' and 'config' are defined before this line\n",
        "# Example definitions:\n",
        "seeds = {\"stations\": [{\"code\": \"KAFD\"}], \"weather\": {}, \"events\": [], \"holidays\": []}\n",
        "config = {}\n",
        "\n",
        "ts = datetime(2025, 9, 23, 9, 0)\n",
        "# Corrected the function name from demand_norm_corrected\n",
        "print(modifiers.compute_demand_modifier(ts, \"KAFD\", seeds, config))"
      ],
      "metadata": {
        "colab": {
          "base_uri": "https://localhost:8080/"
        },
        "id": "aCVNMb5Ywagw",
        "outputId": "a0e559d9-23a3-4957-ef11-da999febf57d"
      },
      "execution_count": 27,
      "outputs": [
        {
          "output_type": "stream",
          "name": "stdout",
          "text": [
            "{'station': 'KAFD', 'date': '2025-09-23', 'weather': 'Sunny', 'station_scale': 1.0, 'weekend_mult': 1.0, 'weather_mult': 1.0, 'event_mult': 1.0, 'holiday_mult': 1.0, 'final_demand_modifier': 1.0}\n"
          ]
        }
      ]
    },
    {
      "cell_type": "code",
      "source": [
        "import importlib.util\n",
        "spec = importlib.util.spec_from_file_location(\"modifiers\", \"/content/2025_GP_28/masar-sim/lib/modifiers.py\")\n",
        "modifiers = importlib.util.module_from_spec(spec)\n",
        "spec.loader.exec_module(modifiers)\n"
      ],
      "metadata": {
        "id": "2ZtNmXWS1K0D"
      },
      "execution_count": 28,
      "outputs": []
    },
    {
      "cell_type": "code",
      "source": [
        "import importlib.util, importlib\n",
        "mod_path = \"/content/2025_GP_28/masar-sim/lib/modifiers.py\"\n",
        "spec = importlib.util.spec_from_file_location(\"modifiers\", mod_path)\n",
        "modifiers = importlib.util.module_from_spec(spec)\n",
        "spec.loader.exec_module(modifiers)\n"
      ],
      "metadata": {
        "id": "ETDUx9PD4mNm"
      },
      "execution_count": 29,
      "outputs": []
    },
    {
      "cell_type": "code",
      "source": [
        "import yaml, json, csv\n",
        "from datetime import datetime\n",
        "\n",
        "# حمّلي نفس الـ seeds والـ config اللي تستخدمينهم في النوتبوك\n",
        "CONF = \"/content/2025_GP_28/masar-sim/sims/00_config.yaml\"\n",
        "with open(CONF) as f:\n",
        "    config = yaml.safe_load(f)\n",
        "\n",
        "seed_path = \"/content/2025_GP_28/masar-sim/data/seeds\"\n",
        "with open(f\"{seed_path}/stations.json\") as f:\n",
        "    stations = json.load(f)\n",
        "with open(f\"{seed_path}/weather_patterns.json\") as f:\n",
        "    weather = json.load(f)\n",
        "with open(f\"{seed_path}/calendar_events.csv\") as f:\n",
        "    events = list(csv.DictReader(f))\n",
        "with open(f\"{seed_path}/holidays.csv\") as f:\n",
        "    holidays = list(csv.DictReader(f))\n",
        "\n",
        "seeds = {\"stations\": stations, \"weather\": weather, \"events\": events, \"holidays\": holidays}\n",
        "\n",
        "ts = datetime(2025, 9, 23, 9, 0)\n",
        "print(modifiers.compute_demand_modifier(ts, \"KAFD\", seeds, config))\n"
      ],
      "metadata": {
        "colab": {
          "base_uri": "https://localhost:8080/"
        },
        "id": "JPwTtf584uHJ",
        "outputId": "239ac17b-540c-4e94-af60-962ad25c5b44"
      },
      "execution_count": 30,
      "outputs": [
        {
          "output_type": "stream",
          "name": "stdout",
          "text": [
            "{'station': 'KAFD', 'date': '2025-09-23', 'weather': 'Sunny', 'station_scale': 1.0843373493975905, 'weekend_mult': 1.0, 'weather_mult': 1.0, 'event_mult': 1.1, 'holiday_mult': 2.0, 'final_demand_modifier': 2.385542168674699}\n"
          ]
        }
      ]
    },
    {
      "cell_type": "code",
      "source": [
        "import importlib.util, importlib\n",
        "mod_path = \"/content/2025_GP_28/masar-sim/lib/modifiers.py\"\n",
        "spec = importlib.util.spec_from_file_location(\"modifiers\", mod_path)\n",
        "modifiers = importlib.util.module_from_spec(spec)\n",
        "spec.loader.exec_module(modifiers)\n"
      ],
      "metadata": {
        "id": "E19JQabO5Plc"
      },
      "execution_count": 31,
      "outputs": []
    },
    {
      "cell_type": "code",
      "source": [
        "import sys, importlib.util, inspect\n",
        "\n",
        "mod_path = \"/content/2025_GP_28/masar-sim/lib/modifiers.py\"\n",
        "# امسحي النسخة الكاشية لو موجودة\n",
        "if \"modifiers\" in sys.modules:\n",
        "    del sys.modules[\"modifiers\"]\n",
        "\n",
        "spec = importlib.util.spec_from_file_location(\"modifiers\", mod_path)\n",
        "modifiers = importlib.util.module_from_spec(spec)\n",
        "spec.loader.exec_module(modifiers)\n",
        "\n",
        "print(\"✅ Loaded from:\", modifiers.__file__)\n",
        "print(\"🔎 uses events_map? ->\", \"events_map\" in inspect.getsource(modifiers.compute_demand_modifier))\n"
      ],
      "metadata": {
        "colab": {
          "base_uri": "https://localhost:8080/"
        },
        "id": "rvKimfUj9Xj2",
        "outputId": "d68aa1a5-ff8a-44cb-a9da-5c01cbc010bc"
      },
      "execution_count": 32,
      "outputs": [
        {
          "output_type": "stream",
          "name": "stdout",
          "text": [
            "✅ Loaded from: /content/2025_GP_28/masar-sim/lib/modifiers.py\n",
            "🔎 uses events_map? -> True\n"
          ]
        }
      ]
    },
    {
      "cell_type": "code",
      "source": [
        "# 1) افحص السورس الحالي للتوثيق\n",
        "import inspect\n",
        "print(inspect.getsource(modifiers.compute_demand_modifier))\n"
      ],
      "metadata": {
        "colab": {
          "base_uri": "https://localhost:8080/"
        },
        "id": "AXaGxjB3-7L1",
        "outputId": "2e1b362c-97fe-4bf7-ddaf-238509a26f00"
      },
      "execution_count": 33,
      "outputs": [
        {
          "output_type": "stream",
          "name": "stdout",
          "text": [
            "def compute_demand_modifier(ts, station_key, seeds: Dict[str, Any], config: Dict[str, Any]) -> Dict[str, Any]:\n",
            "    \"\"\"\n",
            "    Return multiplicative modifier given timestamp, station, and seeds/config.\n",
            "    Safe defaults are used if any sections are missing.\n",
            "    \"\"\"\n",
            "    date_str = ts.date().isoformat()\n",
            "    weekday  = ts.weekday()  # Monday=0 ... Sunday=6\n",
            "\n",
            "    # Safe lookups\n",
            "    stations = seeds.get(\"stations\", [])\n",
            "    weather_seed = seeds.get(\"weather\", {}) or {}\n",
            "    events_seed  = seeds.get(\"events\", [])  or []\n",
            "    holidays_seed= seeds.get(\"holidays\", []) or []\n",
            "\n",
            "    multipliers  = config.get(\"multipliers\", {}) or {}\n",
            "    weather_map  = multipliers.get(\"weather\", {}) or {}\n",
            "    events_map = (\n",
            "    (multipliers.get(\"events\") if isinstance(multipliers.get(\"events\"), dict) else {})\n",
            "    or (config.get(\"events\") if isinstance(config.get(\"events\"), dict) else {})\n",
            "    or {}\n",
            "    )\n",
            "\n",
            "    # Station + relative scale\n",
            "    st = _get_station(seeds, station_key)\n",
            "    station_scale = _station_scale_from_capacity(stations, st)\n",
            "\n",
            "    # Weekend (Fri=4, Sat=5) for KSA\n",
            "    weekend_base = float(multipliers.get(\"weekend\", 1.0))\n",
            "    weekend_mult = weekend_base if weekday in [4, 5] else 1.0\n",
            "\n",
            "    # Weather\n",
            "    w = weather_seed.get(date_str, {\"condition\": \"Sunny\"})\n",
            "    weather_cond = w.get(\"condition\", \"Sunny\") if isinstance(w, dict) else str(w)\n",
            "    weather_mult = float(weather_map.get(weather_cond, 1.0))\n",
            "\n",
            "    # Events (match by station_id/code + date)\n",
            "    sid   = str(st.get(\"station_id\", \"\")).upper()\n",
            "    scode = str(st.get(\"code\", \"\")).upper()\n",
            "    event_mult = 1.0\n",
            "\n",
            "    for ev in events_seed:\n",
            "        ev_station_raw = str(\n",
            "            ev.get(\"station_id\") or ev.get(\"station\") or ev.get(\"station_code\") or \"\"\n",
            "        ).strip().upper()\n",
            "\n",
            "        is_citywide = ev_station_raw in {\"\", \"ALL\", \"CITY\", \"CITYWIDE\"}\n",
            "\n",
            "        if ev.get(\"date\") == date_str and (is_citywide or ev_station_raw in {sid, scode}):\n",
            "            et = ev.get(\"event_type\", \"Other\")\n",
            "            event_mult = max(event_mult, float(events_map.get(et, 1.0)))\n",
            "\n",
            "\n",
            "    # Holiday\n",
            "    holiday_mult = float(multipliers.get(\"holiday\", 1.0))\n",
            "    for hol in holidays_seed:\n",
            "        if hol.get(\"date\") == date_str:\n",
            "            try:\n",
            "                holiday_mult = float(hol.get(\"demand_modifier\", holiday_mult))\n",
            "            except Exception:\n",
            "                pass\n",
            "\n",
            "    final = station_scale * weekend_mult * weather_mult * event_mult * holiday_mult\n",
            "\n",
            "    return {\n",
            "        \"station\": scode or sid,\n",
            "        \"date\": date_str,\n",
            "        \"weather\": weather_cond,\n",
            "        \"station_scale\": station_scale,\n",
            "        \"weekend_mult\": weekend_mult,\n",
            "        \"weather_mult\": weather_mult,\n",
            "        \"event_mult\": event_mult,\n",
            "        \"holiday_mult\": holiday_mult,\n",
            "        \"final_demand_modifier\": final,\n",
            "    }\n",
            "\n"
          ]
        }
      ]
    },
    {
      "cell_type": "code",
      "source": [
        "# 2) بدّل الدالة بدالة مُصحّحة تستخدم events_map + تدعم CITYWIDE/ALL\n",
        "from typing import Any, Dict, List\n",
        "\n",
        "def compute_demand_modifier_patched(ts, station_key, seeds: Dict[str, Any], config: Dict[str, Any]) -> Dict[str, Any]:\n",
        "    date_str = ts.date().isoformat()\n",
        "    weekday  = ts.weekday()  # Monday=0 .. Sunday=6\n",
        "\n",
        "    stations      = seeds.get(\"stations\", [])\n",
        "    weather_seed  = seeds.get(\"weather\", {}) or {}\n",
        "    events_seed   = seeds.get(\"events\", [])  or []\n",
        "    holidays_seed = seeds.get(\"holidays\", []) or []\n",
        "\n",
        "    multipliers = config.get(\"multipliers\", {}) or {}\n",
        "    weather_map = multipliers.get(\"weather\", {}) or {}\n",
        "\n",
        "    # 🔧 أهم نقطة: خذ events من multipliers.events ثم config.events، مع fallback {}\n",
        "    events_map = (\n",
        "        (multipliers.get(\"events\") if isinstance(multipliers.get(\"events\"), dict) else {}) or\n",
        "        (config.get(\"events\")      if isinstance(config.get(\"events\"),      dict) else {}) or\n",
        "        {}\n",
        "    )\n",
        "\n",
        "    # --- helpers من ملفك الحالي ---\n",
        "    def _match_station(sta: Dict[str, Any], key: Any) -> bool:\n",
        "        k = str(key).upper()\n",
        "        return str(sta.get(\"station_id\", \"\")).upper() == k or str(sta.get(\"code\", \"\")).upper() == k\n",
        "\n",
        "    def _get_station(seeds: Dict[str, Any], key: Any) -> Dict[str, Any]:\n",
        "        for s in seeds.get(\"stations\", []):\n",
        "            if _match_station(s, key): return s\n",
        "        raise ValueError(f\"Station not found: {key}\")\n",
        "\n",
        "    def _first_number(*vals, default=None):\n",
        "        for v in vals:\n",
        "            if isinstance(v, (int,float)): return v\n",
        "            try: return float(v)\n",
        "            except Exception: pass\n",
        "        return default\n",
        "\n",
        "    def _station_scale_from_capacity(stations: List[Dict[str, Any]], rec: Dict[str, Any]) -> float:\n",
        "        cand_keys = [\"capacity_platform\", \"peak_capacity\", \"platform_capacity\", \"peak_cap\"]\n",
        "        def cap_of(r): return _first_number(*[r.get(k) for k in cand_keys])\n",
        "        caps = [cap_of(r) for r in stations]\n",
        "        caps = [c for c in caps if isinstance(c,(int,float))]\n",
        "        mean_cap = (sum(caps)/len(caps)) if caps else 1500.0\n",
        "        station_cap = cap_of(rec)\n",
        "        if not isinstance(station_cap,(int,float)): station_cap = mean_cap\n",
        "        return (float(station_cap)/float(mean_cap)) if mean_cap>0 else 1.0\n",
        "\n",
        "    st = _get_station(seeds, station_key)\n",
        "    station_scale = _station_scale_from_capacity(stations, st)\n",
        "\n",
        "    # Weekend (Fri=4, Sat=5)\n",
        "    weekend_base = float(multipliers.get(\"weekend\", 1.0))\n",
        "    weekend_mult = weekend_base if weekday in [4,5] else 1.0\n",
        "\n",
        "    # Weather\n",
        "    w = weather_seed.get(date_str, {\"condition\":\"Sunny\"})\n",
        "    weather_cond = w.get(\"condition\",\"Sunny\") if isinstance(w, dict) else str(w)\n",
        "    weather_mult = float(weather_map.get(weather_cond, 1.0))\n",
        "\n",
        "    # Events (station-specific أو citywide)\n",
        "    sid   = str(st.get(\"station_id\",\"\")).upper()\n",
        "    scode = str(st.get(\"code\",\"\")).upper()\n",
        "\n",
        "    event_mult = 1.0\n",
        "    for ev in events_seed:\n",
        "        ev_station_raw = str(ev.get(\"station_id\") or ev.get(\"station\") or ev.get(\"station_code\") or \"\").strip().upper()\n",
        "        is_citywide = ev_station_raw in {\"\", \"ALL\", \"CITY\", \"CITYWIDE\"}\n",
        "        if ev.get(\"date\")==date_str and (is_citywide or ev_station_raw in {sid, scode}):\n",
        "            et = ev.get(\"event_type\",\"Other\")\n",
        "            event_mult = max(event_mult, float(events_map.get(et, 1.0)))\n",
        "\n",
        "    # Holiday\n",
        "    holiday_mult = float(multipliers.get(\"holiday\", 1.0))\n",
        "    for hol in holidays_seed:\n",
        "        if hol.get(\"date\")==date_str:\n",
        "            try: holiday_mult = float(hol.get(\"demand_modifier\", holiday_mult))\n",
        "            except: pass\n",
        "\n",
        "    final = station_scale * weekend_mult * weather_mult * event_mult * holiday_mult\n",
        "    return {\n",
        "        \"station\": scode or sid,\n",
        "        \"date\": date_str,\n",
        "        \"weather\": weather_cond,\n",
        "        \"station_scale\": station_scale,\n",
        "        \"weekend_mult\": weekend_mult,\n",
        "        \"weather_mult\": weather_mult,\n",
        "        \"event_mult\": event_mult,\n",
        "        \"holiday_mult\": holiday_mult,\n",
        "        \"final_demand_modifier\": final,\n",
        "    }\n",
        "\n",
        "# اربط الباتش مكان الدالة\n",
        "modifiers.compute_demand_modifier = compute_demand_modifier_patched\n",
        "\n",
        "import inspect\n",
        "print(\"✅ patched. uses events_map? ->\", \"events_map\" in inspect.getsource(modifiers.compute_demand_modifier))\n"
      ],
      "metadata": {
        "colab": {
          "base_uri": "https://localhost:8080/"
        },
        "id": "DKWlmQAj--Zr",
        "outputId": "9866b53c-fdd2-49c6-b85a-43601c9faa3e"
      },
      "execution_count": 34,
      "outputs": [
        {
          "output_type": "stream",
          "name": "stdout",
          "text": [
            "✅ patched. uses events_map? -> True\n"
          ]
        }
      ]
    },
    {
      "cell_type": "code",
      "source": [
        "from datetime import datetime\n",
        "ts = datetime(2025, 9, 23, 9, 0)\n",
        "print(modifiers.compute_demand_modifier(ts, \"KAFD\", seeds, config))\n"
      ],
      "metadata": {
        "colab": {
          "base_uri": "https://localhost:8080/"
        },
        "id": "ZoQXtdgm_E1T",
        "outputId": "a5fe96b2-432f-495b-d395-dbf84b103511"
      },
      "execution_count": 35,
      "outputs": [
        {
          "output_type": "stream",
          "name": "stdout",
          "text": [
            "{'station': 'KAFD', 'date': '2025-09-23', 'weather': 'Sunny', 'station_scale': 1.0843373493975905, 'weekend_mult': 1.0, 'weather_mult': 1.0, 'event_mult': 1.1, 'holiday_mult': 2.0, 'final_demand_modifier': 2.385542168674699}\n"
          ]
        }
      ]
    },
    {
      "cell_type": "code",
      "source": [
        "import importlib.util, types, inspect\n",
        "\n",
        "# حمّل ملف modifiers.py من الريبو\n",
        "mod_path = \"/content/2025_GP_28/masar-sim/lib/modifiers.py\"\n",
        "spec = importlib.util.spec_from_file_location(\"modifiers\", mod_path)\n",
        "modifiers = importlib.util.module_from_spec(spec)\n",
        "spec.loader.exec_module(modifiers)\n",
        "\n",
        "def compute_demand_modifier_patched(ts, station_key, seeds, config):\n",
        "    \"\"\"نسخة آمنة تتسامح مع غياب events وتدعم CityWide/ALL.\"\"\"\n",
        "    from datetime import datetime\n",
        "    def _first_number(*vals, default=None):\n",
        "        for v in vals:\n",
        "            if isinstance(v, (int,float)): return v\n",
        "            try:\n",
        "                return float(v)\n",
        "            except Exception:\n",
        "                pass\n",
        "        return default\n",
        "\n",
        "    date_str = ts.date().isoformat()\n",
        "    weekday  = ts.weekday()\n",
        "\n",
        "    stations      = seeds.get(\"stations\", []) or []\n",
        "    weather_seed  = seeds.get(\"weather\", {})   or {}\n",
        "    events_seed   = seeds.get(\"events\", [])    or []\n",
        "    holidays_seed = seeds.get(\"holidays\", [])  or []\n",
        "\n",
        "    multipliers = config.get(\"multipliers\", {}) or {}\n",
        "    weather_map = multipliers.get(\"weather\", {}) or {}\n",
        "    # 👇 آمن: نبحث عن events سواء في الجذر أو تحت multipliers\n",
        "    events_map  = (config.get(\"events\") or multipliers.get(\"events\") or {})\n",
        "\n",
        "    # محطة + scale\n",
        "    def _match_station(sta, key):\n",
        "        k = str(key).upper()\n",
        "        return str(sta.get(\"station_id\",\"\")).upper()==k or str(sta.get(\"code\",\"\")).upper()==k\n",
        "\n",
        "    st = None\n",
        "    for s in stations:\n",
        "        if _match_station(s, station_key):\n",
        "            st = s; break\n",
        "    if st is None:\n",
        "        raise ValueError(f\"Station not found: {station_key}\")\n",
        "\n",
        "    cand_keys = [\"capacity_platform\",\"peak_capacity\",\"platform_capacity\",\"peak_cap\"]\n",
        "    def cap_of(r): return _first_number(*[r.get(k) for k in cand_keys])\n",
        "    caps = [cap_of(r) for r in stations]\n",
        "    caps = [c for c in caps if isinstance(c,(int,float))]\n",
        "    mean_cap = (sum(caps)/len(caps)) if caps else 1500.0\n",
        "    station_cap = cap_of(st)\n",
        "    if not isinstance(station_cap,(int,float)): station_cap = mean_cap\n",
        "    station_scale = (float(station_cap)/float(mean_cap)) if mean_cap>0 else 1.0\n",
        "\n",
        "    # Weekend Fri=4, Sat=5\n",
        "    weekend_mult = float(multipliers.get(\"weekend\", 1.0)) if weekday in [4,5] else 1.0\n",
        "\n",
        "    # Weather\n",
        "    w = weather_seed.get(date_str, {\"condition\":\"Sunny\"})\n",
        "    weather_cond = w.get(\"condition\",\"Sunny\") if isinstance(w,dict) else str(w)\n",
        "    weather_mult = float(weather_map.get(weather_cond, 1.0))\n",
        "\n",
        "    # Events (محطة محددة أو CityWide/ALL)\n",
        "    sid   = str(st.get(\"station_id\",\"\")).upper()\n",
        "    scode = str(st.get(\"code\",\"\")).upper()\n",
        "    event_mult = 1.0\n",
        "    for ev in events_seed:\n",
        "        ev_station_raw = str(ev.get(\"station_id\") or ev.get(\"station\") or ev.get(\"station_code\") or \"\").strip().upper()\n",
        "        is_citywide = ev_station_raw in {\"\", \"ALL\", \"CITY\", \"CITYWIDE\"}\n",
        "        if ev.get(\"date\")==date_str and (is_citywide or ev_station_raw in {sid, scode}):\n",
        "            et = ev.get(\"event_type\",\"Other\")\n",
        "            event_mult = max(event_mult, float(events_map.get(et, 1.0)))\n",
        "\n",
        "    # Holiday\n",
        "    holiday_mult = float(multipliers.get(\"holiday\", 1.0))\n",
        "    for hol in holidays_seed:\n",
        "        if hol.get(\"date\")==date_str:\n",
        "            try:\n",
        "                holiday_mult = float(hol.get(\"demand_modifier\", holiday_mult))\n",
        "            except Exception:\n",
        "                pass\n",
        "\n",
        "    final = station_scale * weekend_mult * weather_mult * event_mult * holiday_mult\n",
        "    return {\n",
        "        \"station\": scode or sid,\n",
        "        \"date\": date_str,\n",
        "        \"weather\": weather_cond,\n",
        "        \"station_scale\": station_scale,\n",
        "        \"weekend_mult\": weekend_mult,\n",
        "        \"weather_mult\": weather_mult,\n",
        "        \"event_mult\": event_mult,\n",
        "        \"holiday_mult\": holiday_mult,\n",
        "        \"final_demand_modifier\": final,\n",
        "    }\n",
        "\n",
        "# اربطي الباتش مكان الدالة الأصلية\n",
        "modifiers.compute_demand_modifier = compute_demand_modifier_patched\n",
        "\n",
        "import inspect\n",
        "print(\"✅ patched & safe. uses flexible events_map ->\",\n",
        "      any(k in inspect.getsource(modifiers.compute_demand_modifier) for k in [\"events_map\",\"multipliers.get(\\\"events\\\")\"]))\n"
      ],
      "metadata": {
        "colab": {
          "base_uri": "https://localhost:8080/"
        },
        "id": "E5oaB-7ACpTl",
        "outputId": "68de1476-9790-4258-c848-4abf6ad503c4"
      },
      "execution_count": 36,
      "outputs": [
        {
          "output_type": "stream",
          "name": "stdout",
          "text": [
            "✅ patched & safe. uses flexible events_map -> True\n"
          ]
        }
      ]
    },
    {
      "cell_type": "code",
      "source": [
        "import yaml, json, csv\n",
        "from datetime import datetime\n",
        "\n",
        "CONF = \"/content/2025_GP_28/masar-sim/sims/00_config.yaml\"\n",
        "with open(CONF) as f:\n",
        "    config = yaml.safe_load(f)\n",
        "\n",
        "seed_path = \"/content/2025_GP_28/masar-sim/data/seeds\"\n",
        "with open(f\"{seed_path}/stations.json\") as f:\n",
        "    stations = json.load(f)\n",
        "with open(f\"{seed_path}/weather_patterns.json\") as f:\n",
        "    weather = json.load(f)\n",
        "with open(f\"{seed_path}/calendar_events.csv\") as f:\n",
        "    events = list(csv.DictReader(f))\n",
        "with open(f\"{seed_path}/holidays.csv\") as f:\n",
        "    holidays = list(csv.DictReader(f))\n",
        "\n",
        "# نحطهم داخل dict موحد\n",
        "seeds = {\n",
        "    \"stations\": stations,\n",
        "    \"weather\": weather,\n",
        "    \"events\": events,\n",
        "    \"holidays\": holidays\n",
        "}\n",
        "\n",
        "print(\"✅ seeds & config loaded successfully\")\n"
      ],
      "metadata": {
        "colab": {
          "base_uri": "https://localhost:8080/"
        },
        "id": "7zav_YNXDRHt",
        "outputId": "d58d86cb-ddec-450b-e6d2-01c459312f46"
      },
      "execution_count": 37,
      "outputs": [
        {
          "output_type": "stream",
          "name": "stdout",
          "text": [
            "✅ seeds & config loaded successfully\n"
          ]
        }
      ]
    },
    {
      "cell_type": "code",
      "source": [
        "frames = []\n",
        "for day_info in days:\n",
        "    day_date = day_info[\"date\"]\n",
        "    tag      = day_info[\"tag\"]\n",
        "\n",
        "    w_over, h_over, e_over = build_overrides_for_date(day_date, tag)\n",
        "    day_df = generate_day_df(day_date, w_over, h_over, e_over)\n",
        "    day_df[\"scenario_tag\"] = tag\n",
        "    day_df[\"date\"] = day_date.isoformat()\n",
        "    frames.append(day_df)\n",
        "\n",
        "week_df = pd.concat(frames, ignore_index=True)\n",
        "out_week = f\"{GEN}/occupancy_week.csv\"\n",
        "os.makedirs(GEN, exist_ok=True)\n",
        "week_df.to_csv(out_week, index=False)\n",
        "print(\"✅ Saved ->\", out_week, \" rows=\", len(week_df))\n"
      ],
      "metadata": {
        "colab": {
          "base_uri": "https://localhost:8080/"
        },
        "id": "IyIQyJAM_Jg5",
        "outputId": "63fb7e23-3f8a-4deb-c80e-f87395118cd5"
      },
      "execution_count": 38,
      "outputs": [
        {
          "output_type": "stream",
          "name": "stdout",
          "text": [
            "✅ Saved -> /content/2025_GP_28/masar-sim/data/generated/occupancy_week.csv  rows= 45402\n"
          ]
        }
      ]
    },
    {
      "cell_type": "code",
      "source": [
        "import pandas as pd\n",
        "\n",
        "out_week = f\"{GEN}/occupancy_week.csv\"\n",
        "week_df = pd.read_csv(out_week, parse_dates=[\"timestamp\"])\n",
        "\n",
        "print(\"days=\", week_df[\"timestamp\"].dt.date.nunique(),\n",
        "      \"stations=\", week_df[\"station_id\"].nunique(),\n",
        "      \"rows=\", len(week_df))\n",
        "\n",
        "print(\"\\nby scenario:\")\n",
        "print(week_df[\"scenario_tag\"].value_counts())\n",
        "\n",
        "print(\"\\nany > capacity ?\",\n",
        "      (week_df[\"cabin_passenger_count\"] > week_df[\"cabin_capacity\"]).any())\n"
      ],
      "metadata": {
        "id": "rNw_Wf6XA6bB",
        "colab": {
          "base_uri": "https://localhost:8080/"
        },
        "outputId": "1129e96e-e641-46f3-9f4d-d1092ec548db"
      },
      "execution_count": 39,
      "outputs": [
        {
          "output_type": "stream",
          "name": "stdout",
          "text": [
            "days= 7 stations= 6 rows= 45402\n",
            "\n",
            "by scenario:\n",
            "scenario_tag\n",
            "normal        19458\n",
            "rainy          6486\n",
            "event_kafd     6486\n",
            "holiday        6486\n",
            "dusty          6486\n",
            "Name: count, dtype: int64\n",
            "\n",
            "any > capacity ? False\n"
          ]
        }
      ]
    },
    {
      "cell_type": "code",
      "source": [
        "print(week_df.groupby(\"scenario_tag\")[\"demand_norm_final\"].mean().round(4))\n"
      ],
      "metadata": {
        "id": "lIxS2KOFA8C2",
        "colab": {
          "base_uri": "https://localhost:8080/"
        },
        "outputId": "b609cab5-3fc3-4bf4-ffda-2d14bc54a53f"
      },
      "execution_count": 40,
      "outputs": [
        {
          "output_type": "stream",
          "name": "stdout",
          "text": [
            "scenario_tag\n",
            "dusty         0.2593\n",
            "event_kafd    0.2593\n",
            "holiday       0.2593\n",
            "normal        0.2593\n",
            "rainy         0.2593\n",
            "Name: demand_norm_final, dtype: float64\n"
          ]
        }
      ]
    },
    {
      "cell_type": "code",
      "source": [
        "from google.colab import files\n",
        "files.download(out_week)\n"
      ],
      "metadata": {
        "id": "SZcadtbQA_11",
        "colab": {
          "base_uri": "https://localhost:8080/",
          "height": 17
        },
        "outputId": "dbc6e5ed-db6e-4625-9c8e-da029798d7a1"
      },
      "execution_count": 41,
      "outputs": [
        {
          "output_type": "display_data",
          "data": {
            "text/plain": [
              "<IPython.core.display.Javascript object>"
            ],
            "application/javascript": [
              "\n",
              "    async function download(id, filename, size) {\n",
              "      if (!google.colab.kernel.accessAllowed) {\n",
              "        return;\n",
              "      }\n",
              "      const div = document.createElement('div');\n",
              "      const label = document.createElement('label');\n",
              "      label.textContent = `Downloading \"${filename}\": `;\n",
              "      div.appendChild(label);\n",
              "      const progress = document.createElement('progress');\n",
              "      progress.max = size;\n",
              "      div.appendChild(progress);\n",
              "      document.body.appendChild(div);\n",
              "\n",
              "      const buffers = [];\n",
              "      let downloaded = 0;\n",
              "\n",
              "      const channel = await google.colab.kernel.comms.open(id);\n",
              "      // Send a message to notify the kernel that we're ready.\n",
              "      channel.send({})\n",
              "\n",
              "      for await (const message of channel.messages) {\n",
              "        // Send a message to notify the kernel that we're ready.\n",
              "        channel.send({})\n",
              "        if (message.buffers) {\n",
              "          for (const buffer of message.buffers) {\n",
              "            buffers.push(buffer);\n",
              "            downloaded += buffer.byteLength;\n",
              "            progress.value = downloaded;\n",
              "          }\n",
              "        }\n",
              "      }\n",
              "      const blob = new Blob(buffers, {type: 'application/binary'});\n",
              "      const a = document.createElement('a');\n",
              "      a.href = window.URL.createObjectURL(blob);\n",
              "      a.download = filename;\n",
              "      div.appendChild(a);\n",
              "      a.click();\n",
              "      div.remove();\n",
              "    }\n",
              "  "
            ]
          },
          "metadata": {}
        },
        {
          "output_type": "display_data",
          "data": {
            "text/plain": [
              "<IPython.core.display.Javascript object>"
            ],
            "application/javascript": [
              "download(\"download_971e985d-9df3-430d-ae74-5c111b699ba7\", \"occupancy_week.csv\", 10030583)"
            ]
          },
          "metadata": {}
        }
      ]
    }
  ]
}