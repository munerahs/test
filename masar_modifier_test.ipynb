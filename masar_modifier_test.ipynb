{
  "nbformat": 4,
  "nbformat_minor": 0,
  "metadata": {
    "colab": {
      "provenance": [],
      "include_colab_link": true
    },
    "kernelspec": {
      "name": "python3",
      "display_name": "Python 3"
    },
    "language_info": {
      "name": "python"
    }
  },
  "cells": [
    {
      "cell_type": "markdown",
      "metadata": {
        "id": "view-in-github",
        "colab_type": "text"
      },
      "source": [
        "<a href=\"https://colab.research.google.com/github/Jana-Alrzoog/2025_GP_28/blob/main/masar-sim/notebooks/masar_modifier_test.ipynb\" target=\"_parent\"><img src=\"https://colab.research.google.com/assets/colab-badge.svg\" alt=\"Open In Colab\"/></a>"
      ]
    },
    {
      "cell_type": "markdown",
      "source": [
        "The primary objective of this notebook is to formulate and validate the logic for computing demand modifiers. These are dimensionless factors that quantify the expected deviation from a baseline demand level due to a set of external variables.\n",
        "\n",
        "The function developed here does not generate the demand itself, but rather calculates a multiplier to adjust a pre-existing baseline. The variables considered include:\n",
        "\n",
        "Inherent attributes: Station size and passenger capacity.\n",
        "\n",
        "*   Inherent attributes: Station info and passenger capacity.\n",
        "*   Temporal factors: Day of the week (weekday or weekend).\n",
        "*   Environmental conditions: Pre-defined weather patterns.\n",
        "*   Scheduled occurrences: Public holidays and special events.\n",
        "\n",
        "\n",
        "\n",
        "\n",
        "\n",
        "Temporal factors: Day of the week (weekday vs. weekend).\n",
        "\n",
        "Environmental conditions: Pre-defined weather patterns.\n",
        "\n",
        "Scheduled occurrences: Public holidays and special events.\n",
        "\n",
        "The output is a single numerical multiplier. A value of 1.0 signifies normal conditions, while values above or below 1.0 indicate an expected increase or decrease in passenger demand, respectively."
      ],
      "metadata": {
        "id": "FoPGFoWu7yWO"
      }
    },
    {
      "cell_type": "code",
      "execution_count": null,
      "metadata": {
        "colab": {
          "base_uri": "https://localhost:8080/"
        },
        "id": "PeCI7KzqpYi6",
        "outputId": "4f58346f-129b-4ab4-e052-ea423959deee"
      },
      "outputs": [
        {
          "output_type": "stream",
          "name": "stdout",
          "text": [
            "Cloning into '2025_GP_28'...\n",
            "remote: Enumerating objects: 431, done.\u001b[K\n",
            "remote: Counting objects: 100% (430/430), done.\u001b[K\n",
            "remote: Compressing objects: 100% (316/316), done.\u001b[K\n",
            "remote: Total 431 (delta 126), reused 303 (delta 67), pack-reused 1 (from 1)\u001b[K\n",
            "Receiving objects: 100% (431/431), 1.67 MiB | 6.49 MiB/s, done.\n",
            "Resolving deltas: 100% (126/126), done.\n",
            "/content/2025_GP_28/2025_GP_28/2025_GP_28\n"
          ]
        }
      ],
      "source": [
        "!git clone https://github.com/Jana-Alrzoog/2025_GP_28.git\n",
        "%cd 2025_GP_28\n"
      ]
    },
    {
      "cell_type": "code",
      "source": [
        "!ls\n"
      ],
      "metadata": {
        "colab": {
          "base_uri": "https://localhost:8080/"
        },
        "id": "t2nTa6PbLxWv",
        "outputId": "60106237-8f1e-4646-bc05-3574b585fb83"
      },
      "execution_count": null,
      "outputs": [
        {
          "output_type": "stream",
          "name": "stdout",
          "text": [
            "analysis_options.yaml  ios    masar-sim     replacements.txt\n",
            "android\t\t       lib    pubspec.lock  test\n",
            "assets\t\t       linux  pubspec.yaml  web\n",
            "AUTHORS.txt\t       macos  README.md     windows\n"
          ]
        }
      ]
    },
    {
      "cell_type": "code",
      "source": [
        "!pip install pyyaml pandas"
      ],
      "metadata": {
        "colab": {
          "base_uri": "https://localhost:8080/"
        },
        "id": "NMzXTpfgL0r0",
        "outputId": "56800ab4-a86b-4fb2-a7aa-42a4c8be9356"
      },
      "execution_count": null,
      "outputs": [
        {
          "output_type": "stream",
          "name": "stdout",
          "text": [
            "Requirement already satisfied: pyyaml in /usr/local/lib/python3.12/dist-packages (6.0.3)\n",
            "Requirement already satisfied: pandas in /usr/local/lib/python3.12/dist-packages (2.2.2)\n",
            "Requirement already satisfied: numpy>=1.26.0 in /usr/local/lib/python3.12/dist-packages (from pandas) (2.0.2)\n",
            "Requirement already satisfied: python-dateutil>=2.8.2 in /usr/local/lib/python3.12/dist-packages (from pandas) (2.9.0.post0)\n",
            "Requirement already satisfied: pytz>=2020.1 in /usr/local/lib/python3.12/dist-packages (from pandas) (2025.2)\n",
            "Requirement already satisfied: tzdata>=2022.7 in /usr/local/lib/python3.12/dist-packages (from pandas) (2025.2)\n",
            "Requirement already satisfied: six>=1.5 in /usr/local/lib/python3.12/dist-packages (from python-dateutil>=2.8.2->pandas) (1.17.0)\n"
          ]
        }
      ]
    },
    {
      "cell_type": "code",
      "source": [
        "import yaml, json, csv\n",
        "from datetime import datetime\n",
        "\n",
        "# تحديد المسارات\n",
        "seed_path = \"/content/2025_GP_28/masar-sim/data/seeds\"\n",
        "config_path = \"/content/2025_GP_28/masar-sim/sims/00_config.yaml\"\n",
        "\n",
        "# تحميل الإعدادات\n",
        "with open(config_path) as f:\n",
        "    config = yaml.safe_load(f)\n",
        "\n",
        "# تحميل ملفات seeds\n",
        "seeds = {}\n",
        "with open(f\"{seed_path}/stations.json\") as f:\n",
        "    seeds[\"stations\"] = json.load(f)\n",
        "with open(f\"{seed_path}/weather_patterns.json\") as f:\n",
        "    seeds[\"weather\"] = json.load(f)\n",
        "with open(f\"{seed_path}/calendar_events.csv\") as f:\n",
        "    seeds[\"events\"] = list(csv.DictReader(f))\n",
        "with open(f\"{seed_path}/holidays.csv\") as f:\n",
        "    seeds[\"holidays\"] = list(csv.DictReader(f))\n",
        "\n",
        "print(\" Loaded successfully\")\n",
        "print(\"Stations:\", len(seeds[\"stations\"]))\n",
        "print(\"Events:\", len(seeds[\"events\"]))\n",
        "print(\"Holidays:\", len(seeds[\"holidays\"]))\n"
      ],
      "metadata": {
        "colab": {
          "base_uri": "https://localhost:8080/"
        },
        "id": "V8jSlT2cL4DW",
        "outputId": "dcb1ff9f-d26e-48a5-fdef-82102f47c0eb"
      },
      "execution_count": null,
      "outputs": [
        {
          "output_type": "stream",
          "name": "stdout",
          "text": [
            " Loaded successfully\n",
            "Stations: 6\n",
            "Events: 10\n",
            "Holidays: 5\n"
          ]
        }
      ]
    },
    {
      "cell_type": "markdown",
      "source": [
        "Here is the main function that integrates all variables to produce the final modifier. It accepts a timestamp and station identifier as input, calculates the individual multipliers for each factor (weekend, weather, event, holiday), and then computes their product to capture the cumulative effect. The function returns a dictionary containing the final computed modifie"
      ],
      "metadata": {
        "id": "_C6d16hV88gA"
      }
    },
    {
      "cell_type": "code",
      "source": [
        "def _match_station(sta, key):\n",
        "    k = str(key).upper()\n",
        "    return str(sta.get(\"station_id\",\"\")).upper() == k or str(sta.get(\"code\",\"\")).upper() == k\n",
        "\n",
        "def _get_station(seeds, key):\n",
        "    for s in seeds[\"stations\"]:\n",
        "        if _match_station(s, key):\n",
        "            return s\n",
        "    raise ValueError(f\"Station not found: {key}\")\n",
        "\n",
        "def _station_scale_from_capacity(stations, rec):\n",
        "    caps = [r.get(\"capacity_platform\") for r in stations if isinstance(r.get(\"capacity_platform\"), (int,float))]\n",
        "    mean_cap = (sum(caps)/len(caps)) if caps else 1500.0\n",
        "    return float(rec.get(\"capacity_platform\", mean_cap))/float(mean_cap) if mean_cap>0 else 1.0\n",
        "\n",
        "def compute_demand_modifier(ts, station_key, seeds, config):\n",
        "    date_str = ts.date().isoformat()\n",
        "    weekday  = ts.weekday()\n",
        "    st = _get_station(seeds, station_key)\n",
        "    station_scale = _station_scale_from_capacity(seeds[\"stations\"], st)\n",
        "\n",
        "    weekend_mult = float(config[\"multipliers\"][\"weekend\"]) if weekday in [4,5] else 1.0\n",
        "    w = seeds[\"weather\"].get(date_str, {\"condition\":\"Sunny\"})\n",
        "    weather_cond = w.get(\"condition\",\"Sunny\")\n",
        "    weather_mult = float(config[\"multipliers\"][\"weather\"].get(weather_cond, 1.0))\n",
        "\n",
        "    # match events by either station_id or code\n",
        "    sid = str(st.get(\"station_id\",\"\")).upper()\n",
        "    scode = str(st.get(\"code\",\"\")).upper()\n",
        "    event_mult = 1.0\n",
        "    for ev in seeds[\"events\"]:\n",
        "        ev_station = str(ev.get(\"station_id\") or ev.get(\"station\") or ev.get(\"station_code\") or \"\").upper()\n",
        "        if ev.get(\"date\")==date_str and ev_station in {sid, scode}:\n",
        "            et = ev.get(\"event_type\",\"Other\")\n",
        "            event_mult = max(event_mult, float(config[\"events\"].get(et, 1.0)))\n",
        "\n",
        "    holiday_mult = float(config[\"multipliers\"][\"holiday\"])\n",
        "    for hol in seeds[\"holidays\"]:\n",
        "        if hol.get(\"date\")==date_str:\n",
        "            try: holiday_mult = float(hol.get(\"demand_modifier\", holiday_mult))\n",
        "            except: pass\n",
        "\n",
        "    final = station_scale * weekend_mult * weather_mult * event_mult * holiday_mult\n",
        "    return {\"station\": scode or sid, \"date\": date_str, \"weather\": weather_cond,\n",
        "            \"station_scale\": station_scale, \"weekend_mult\": weekend_mult,\n",
        "            \"weather_mult\": weather_mult, \"event_mult\": event_mult,\n",
        "            \"holiday_mult\": holiday_mult, \"final_demand_modifier\": final}\n"
      ],
      "metadata": {
        "id": "y776-es1Pw1H"
      },
      "execution_count": null,
      "outputs": []
    },
    {
      "cell_type": "markdown",
      "source": [
        " This section serves to test and validate the core logic. A specific scenario(  KAFD station on a public holiday ) is used to call the compute_demand_modifier function. The output is then inspected to confirm that the logic correctly identifies the relevant conditions and calculates a factually consistent modifier.\n",
        "\n",
        " and the result we had is a detailed forecast predicting that passenger demand at the KAFD station on Saudi National Day (September 23, 2025) will be more than double the normal amount.\n",
        "\n",
        "The final prediction was 2.16, meaning the demand is expected to be about 217% of a standard day. This number was calculated by multiplying several factors together.\n",
        "\n"
      ],
      "metadata": {
        "id": "-dMPXSuJ9LsJ"
      }
    },
    {
      "cell_type": "code",
      "source": [
        "from datetime import datetime\n",
        "\n",
        "# Example: compute modifier for KAFD station on National Day\n",
        "ts = datetime(2025, 9, 23, 9, 0)  # time and date\n",
        "station_key = \"KAFD\"               # works with either \"KAFD\" or \"S1\"\n",
        "\n",
        "result = compute_demand_modifier(ts, station_key, seeds, config)\n",
        "result\n"
      ],
      "metadata": {
        "colab": {
          "base_uri": "https://localhost:8080/"
        },
        "id": "g6-UshFgQW_-",
        "outputId": "e1cb1d2f-f2dc-455f-e8a2-c97b8e0f1b4a"
      },
      "execution_count": null,
      "outputs": [
        {
          "output_type": "execute_result",
          "data": {
            "text/plain": [
              "{'station': 'KAFD',\n",
              " 'date': '2025-09-23',\n",
              " 'weather': 'Sunny',\n",
              " 'station_scale': 1.0843373493975905,\n",
              " 'weekend_mult': 1.0,\n",
              " 'weather_mult': 1.0,\n",
              " 'event_mult': 1.0,\n",
              " 'holiday_mult': 2.0,\n",
              " 'final_demand_modifier': 2.168674698795181}"
            ]
          },
          "metadata": {},
          "execution_count": 25
        }
      ]
    }
  ]
}